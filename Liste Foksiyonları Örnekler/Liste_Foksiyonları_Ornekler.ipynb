{
  "nbformat": 4,
  "nbformat_minor": 0,
  "metadata": {
    "colab": {
      "provenance": []
    },
    "kernelspec": {
      "name": "python3",
      "display_name": "Python 3"
    },
    "language_info": {
      "name": "python"
    }
  },
  "cells": [
    {
      "cell_type": "code",
      "execution_count": null,
      "metadata": {
        "colab": {
          "base_uri": "https://localhost:8080/"
        },
        "id": "TZW-FG3YrcVz",
        "outputId": "c883792e-0813-455d-f4de-47b5a970adc7"
      },
      "outputs": [
        {
          "output_type": "stream",
          "name": "stdout",
          "text": [
            "listeyi sayıların arasında virgül(,) olacak şekilde yazınız: 1,2,3,4,5,6,7,3,4,5,6,7,8,9,4,5,6,7,8,9,7,7,7,7,7,4,5,6,8,9,0\n",
            "\n",
            "\n",
            "Tekrar Sayıları: \n",
            "1: 1 \n",
            "2: 1 \n",
            "3: 2 \n",
            "4: 4 \n",
            "5: 4 \n",
            "6: 4 \n",
            "7: 8 \n",
            "8: 3 \n",
            "9: 3 \n",
            "0: 1 \n"
          ]
        }
      ],
      "source": [
        "# Soru 1: Listedeki Tekrarlanan Elemanları ve Kaç Kez Tekrar Ettiklerini Bulma\n",
        "# Soru: Kullanıcının girdiği bir listede tekrarlanan elemanları ve kaç kez tekrar ettiklerini bulan bir Python programı yazın.\n",
        "# İpucu: count() fonksiyonunu kullanabilirsiniz.\n",
        "\n",
        "liste = input(\"listeyi sayıların arasında virgül(,) olacak şekilde yazınız: \")\n",
        "\n",
        "liste = liste.split(\",\")\n",
        "liste = [int(eleman) for eleman in liste]\n",
        "\n",
        "sayilar = []\n",
        "x = 0\n",
        "yazdirilan = []\n",
        "print(\"\"\"\n",
        "\n",
        "Tekrar Sayıları: \"\"\")\n",
        "for eleman in liste:\n",
        "  sayilar.append(liste.count(eleman))\n",
        "\n",
        "for i in range(len(liste)):\n",
        "  if liste[i] not in yazdirilan:\n",
        "    print(f\"{liste[i]}: {sayilar[i]} \")\n",
        "    yazdirilan.append(liste[i])"
      ]
    },
    {
      "cell_type": "code",
      "source": [
        "# Soru 2: Listedeki En Büyük İkinci Sayıyı Bulma\n",
        "# Soru: Kullanıcının girdiği bir sayı listesindeki en büyük ikinci sayıyı bulan Python programını yazın.\n",
        "# İpucu: max() fonksiyonunu kullanabilirsiniz.\n",
        "\n",
        "liste = input(\"listedeki elemanları aralarında virgül olacak şekilde yazınız: \")\n",
        "liste = liste.split(\",\")\n",
        "liste = [int(eleman.strip()) for eleman in liste]\n",
        "\n",
        "tekil_liste = list(set(liste))\n",
        "\n",
        "max_deger = max(tekil_liste)\n",
        "tekil_liste.remove(max_deger)\n",
        "max_deger = max(tekil_liste)\n",
        "\n",
        "print(f\"listedeki en büyük ikinci değer: {max_deger}\")"
      ],
      "metadata": {
        "id": "YG21uEeS6PXQ",
        "colab": {
          "base_uri": "https://localhost:8080/"
        },
        "outputId": "86ff99e1-7220-4563-aff5-bba8b1f47039"
      },
      "execution_count": null,
      "outputs": [
        {
          "output_type": "stream",
          "name": "stdout",
          "text": [
            "listedeki elemanları aralarında virgül olacak şekilde yazınız: 1,2,3,4,5,6,7,3,4,5,6,7,8,9,4,5,6,7,8,9,7,7,7,7,7,4,5,6,8,9,0,12,12,12,11,11,10\n",
            "listedeki en büyük ikinci değer: 11\n"
          ]
        }
      ]
    },
    {
      "cell_type": "code",
      "source": [
        "# Soru 2: Listedeki En Büyük İkinci Sayıyı Bulma / Alternatif Çözüm\n",
        "# Soru: Kullanıcının girdiği bir sayı listesindeki en büyük ikinci sayıyı bulan Python programını yazın.\n",
        "# İpucu: max() fonksiyonunu kullanabilirsiniz.\n",
        "\n",
        "liste = input(\"listedeki elemanları aralarında virgül olacak şekilde yazınız: \")\n",
        "liste = liste.split(\",\")\n",
        "liste = [int(eleman.strip()) for eleman in liste]\n",
        "\n",
        "tekil_liste = list(set(liste))\n",
        "tekil_liste.sort()\n",
        "\n",
        "istenen_deger = tekil_liste[len(tekil_liste)-2]\n",
        "\n",
        "print(f\"listedeki en büyük ikinci değer: {istenen_deger}\")"
      ],
      "metadata": {
        "colab": {
          "base_uri": "https://localhost:8080/"
        },
        "id": "El-2BYT0MkaT",
        "outputId": "6ad73b37-9ead-47cc-84e6-c1be57221271"
      },
      "execution_count": null,
      "outputs": [
        {
          "output_type": "stream",
          "name": "stdout",
          "text": [
            "listedeki elemanları aralarında virgül olacak şekilde yazınız: 1,2,3,4,5,6,7,3,4,5,6,7,8,9,4,5,6,7,8,9,7,7,7,7,7,4,5,6,8,9,0,12,12,12,11,11,10\n",
            "listedeki en büyük ikinci değer: 11\n"
          ]
        }
      ]
    },
    {
      "cell_type": "code",
      "source": [
        "# Soru 3: Listedeki Sayıları Küçükten Büyüğe ve Büyükten Küçüğe Sıralama\n",
        "# Soru: Kullanıcının girdiği bir listeyi küçükten büyüğe ve büyükten küçüğe sıralayan bir Python programı yazın.\n",
        "# İpucu: sort() ve sorted() fonksiyonlarını kullanabilirsiniz.\n",
        "\n",
        "liste = input(\"listedeki elemanları aralarında virgül olacak şekilde yazınız: \")\n",
        "liste = liste.split(\",\")\n",
        "liste = [int(eleman.strip()) for eleman in liste]\n",
        "\n",
        "liste.sort()\n",
        "print(f\"küçükten büyüğe sıralama: {liste}\")\n",
        "liste.reverse()\n",
        "print(f\"büyükten küçüğe sıralama: {liste}\")"
      ],
      "metadata": {
        "colab": {
          "base_uri": "https://localhost:8080/"
        },
        "id": "QBAeIN9_KIzz",
        "outputId": "5c9e181e-ff4c-4e9f-f990-6cede55ad136"
      },
      "execution_count": 4,
      "outputs": [
        {
          "output_type": "stream",
          "name": "stdout",
          "text": [
            "listedeki elemanları aralarında virgül olacak şekilde yazınız: 1,2,3,4,5,6,7,3,4,5,6,7,8,9,4,5,6,7,8,9,7,7,7,7,7,4,5,6,8,9,0,12,12,12,11,11,10\n",
            "küçükten büyüğe sıralama: [0, 1, 2, 3, 3, 4, 4, 4, 4, 5, 5, 5, 5, 6, 6, 6, 6, 7, 7, 7, 7, 7, 7, 7, 7, 8, 8, 8, 9, 9, 9, 10, 11, 11, 12, 12, 12]\n",
            "büyükten küçüğe sıralama: [12, 12, 12, 11, 11, 10, 9, 9, 9, 8, 8, 8, 7, 7, 7, 7, 7, 7, 7, 7, 6, 6, 6, 6, 5, 5, 5, 5, 4, 4, 4, 4, 3, 3, 2, 1, 0]\n"
          ]
        }
      ]
    },
    {
      "cell_type": "code",
      "source": [
        "# Soru 4: Liste Elemanlarını 2 ile Çarpma ve Yeni Liste Oluşturma\n",
        "# Soru: Kullanıcının girdiği listedeki her elemanı 2 ile çarparak yeni bir liste oluşturan bir Python programı yazın.\n",
        "# İpucu: List comprehension kullanabilirsiniz.\n",
        "\n",
        "liste = input(\"listeyi aralarında virgül olacak şekilde yazınız: \")\n",
        "liste = liste.split(\",\")\n",
        "liste = [int(eleman.strip()) for eleman in liste]\n",
        "\n",
        "print(f\"orijinal liste: {liste}\")\n",
        "\n",
        "yeni_liste = [eleman*2 for eleman in liste]\n",
        "print(f\"yeni oluşan liste: {yeni_liste}\")"
      ],
      "metadata": {
        "colab": {
          "base_uri": "https://localhost:8080/"
        },
        "id": "KEwpH18XMCdN",
        "outputId": "b3efd9de-007f-47c6-eea0-f474572dd38a"
      },
      "execution_count": 5,
      "outputs": [
        {
          "output_type": "stream",
          "name": "stdout",
          "text": [
            "listeyi aralarında virgül olacak şekilde yazınız: 1,2,3,4,5,6,7,3,4,5,6,7,8,9,4,5,6,7,8,9,7,7,7,7,7,4,5,6,8,9,0,12,12,12,11,11,10\n",
            "orijinal liste: [1, 2, 3, 4, 5, 6, 7, 3, 4, 5, 6, 7, 8, 9, 4, 5, 6, 7, 8, 9, 7, 7, 7, 7, 7, 4, 5, 6, 8, 9, 0, 12, 12, 12, 11, 11, 10]\n",
            "yeni oluşan liste: [2, 4, 6, 8, 10, 12, 14, 6, 8, 10, 12, 14, 16, 18, 8, 10, 12, 14, 16, 18, 14, 14, 14, 14, 14, 8, 10, 12, 16, 18, 0, 24, 24, 24, 22, 22, 20]\n"
          ]
        }
      ]
    },
    {
      "cell_type": "code",
      "source": [
        "# Soru 5: Listedeki Elemanları Rastgele Karıştırma\n",
        "# Soru: Kullanıcının girdiği liste elemanlarını rastgele karıştıran bir Python programı yazın.\n",
        "# İpucu: random.shuffle() fonksiyonunu kullanabilirsiniz.\n",
        "\n",
        "liste = input(\"listedeki elemanları aralarında virgül olacak şekilde yazınız: \")\n",
        "liste = liste.split(\",\")\n",
        "liste = [int(eleman.strip()) for eleman in liste]\n",
        "print(f\"listenin orijinal hali: {liste}\")\n",
        "\n",
        "random.shuffle(liste)\n",
        "print(f\"listenin karışık hali: {liste}\")"
      ],
      "metadata": {
        "colab": {
          "base_uri": "https://localhost:8080/"
        },
        "id": "qDIVZOmVOETE",
        "outputId": "a2527018-eda8-4da9-fc0f-94415a702082"
      },
      "execution_count": 8,
      "outputs": [
        {
          "output_type": "stream",
          "name": "stdout",
          "text": [
            "listedeki elemanları aralarında virgül olacak şekilde yazınız: 1,2,3,4,5,6,7,3,4,5,6,7,8,9,4,5,6,7,8,9,7,7,7,7,7,4,5,6,8,9,0,12,12,12,11,11,10\n",
            "listenin orijinal hali: [1, 2, 3, 4, 5, 6, 7, 3, 4, 5, 6, 7, 8, 9, 4, 5, 6, 7, 8, 9, 7, 7, 7, 7, 7, 4, 5, 6, 8, 9, 0, 12, 12, 12, 11, 11, 10]\n",
            "listenin karışık hali: [3, 7, 7, 11, 7, 9, 0, 12, 5, 11, 6, 10, 2, 3, 4, 8, 1, 9, 4, 5, 6, 9, 7, 7, 6, 5, 7, 7, 4, 7, 8, 6, 12, 4, 8, 12, 5]\n"
          ]
        }
      ]
    }
  ]
}