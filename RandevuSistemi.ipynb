{
 "cells": [
  {
   "cell_type": "code",
   "execution_count": 24,
   "id": "2740bff8-b5a3-49d8-965a-968e2ce45839",
   "metadata": {},
   "outputs": [],
   "source": [
    "class doctor: \n",
    "    def __init__(self, name,surname,speciality): \n",
    "        self.name = name\n",
    "        self.surname = surname\n",
    "        self.speciality = speciality"
   ]
  },
  {
   "cell_type": "code",
   "execution_count": 26,
   "id": "207185dd-c33c-4b77-9705-014e45d647f2",
   "metadata": {},
   "outputs": [],
   "source": [
    "class patient: \n",
    "    def __init__(self, name,surname): \n",
    "        self.name = name\n",
    "        self.surname = surname"
   ]
  },
  {
   "cell_type": "code",
   "execution_count": 28,
   "id": "2295847b-ecc6-4983-b9ac-4b8e5638e043",
   "metadata": {},
   "outputs": [],
   "source": [
    "class appointment: \n",
    "    def __init__(self, patient,doctor,appointment_date): \n",
    "        self.patient = patient\n",
    "        self.doctor = doctor\n",
    "        self.appointment_date = appointment_date # Changed self.appointment_name to self.appointment_date\n",
    "\n",
    "    def randevu_goster(self): \n",
    "        print(f\"randevu tarihi: {self.appointment_date}\")\n",
    "        print(f\"hasta adı: {self.patient.name}\")\n",
    "        print(f\"hasta soyadı: {self.patient.surname}\")\n",
    "        print(\".....................................\")\n",
    "        print(f\"doktor adı: {self.doctor.name}\")\n",
    "        print(f\"doktor soyadı: {self.doctor.surname}\") # Changed self.doctor.surmane to self.doctor.surname\n",
    "        print(f\"doktor uzmanlığı: {self.doctor.speciality}\")"
   ]
  },
  {
   "cell_type": "code",
   "execution_count": 30,
   "id": "36809b02-6c7a-4c47-8a65-57718bd6c572",
   "metadata": {},
   "outputs": [
    {
     "name": "stdout",
     "output_type": "stream",
     "text": [
      "randevu tarihi: 10 mayıs 2025 15.00\n",
      "hasta adı: ömer faruk\n",
      "hasta soyadı: doğan\n",
      ".....................................\n",
      "doktor adı: buse nur\n",
      "doktor soyadı: aslan\n",
      "doktor uzmanlığı: kalp uzmanı\n"
     ]
    }
   ],
   "source": [
    "hasta = patient(\"ömer faruk\",\"doğan\")\n",
    "doktor = doctor(\"buse nur\",\"aslan\",\"kalp uzmanı\")\n",
    "randevu = appointment(hasta,doktor,\"10 mayıs 2025 15.00\")\n",
    "randevu.randevu_goster()"
   ]
  }
 ],
 "metadata": {
  "kernelspec": {
   "display_name": "Python [conda env:base] *",
   "language": "python",
   "name": "conda-base-py"
  },
  "language_info": {
   "codemirror_mode": {
    "name": "ipython",
    "version": 3
   },
   "file_extension": ".py",
   "mimetype": "text/x-python",
   "name": "python",
   "nbconvert_exporter": "python",
   "pygments_lexer": "ipython3",
   "version": "3.12.7"
  }
 },
 "nbformat": 4,
 "nbformat_minor": 5
}
