{
  "nbformat": 4,
  "nbformat_minor": 0,
  "metadata": {
    "colab": {
      "provenance": []
    },
    "kernelspec": {
      "name": "python3",
      "display_name": "Python 3"
    },
    "language_info": {
      "name": "python"
    }
  },
  "cells": [
    {
      "cell_type": "code",
      "execution_count": 2,
      "metadata": {
        "colab": {
          "base_uri": "https://localhost:8080/"
        },
        "id": "o36ynVGNxxUg",
        "outputId": "c7bd53d5-2305-4a5d-fb5d-fb2e325e2cfc"
      },
      "outputs": [
        {
          "output_type": "stream",
          "name": "stdout",
          "text": [
            "4\n"
          ]
        }
      ],
      "source": [
        "# Liste İşlemleri\n",
        "# \n",
        "# meyveler = [\"elma\", \"muz\", \"çilek\", \"kiraz\"]\n",
        "# o Listenin sonuna \"portakal\" ekleyin.\n",
        "# o Listenin 2. indeksindeki öğeyi \"armut\" ile değiştirin.\n",
        "# o \"muz\" öğesini listeden kaldırın.\n",
        "# o Listenin uzunluğunu ekrana yazdırın.\n",
        "\n",
        "meyveler = [\"elma\", \"muz\", \"çilek\", \"kiraz\"]\n",
        "\n",
        "meyveler.append(\"portakal\")\n",
        "meyveler[2] = \"armut\"\n",
        "meyveler.remove(\"muz\")\n",
        "\n",
        "print(len(meyveler))"
      ]
    },
    {
      "cell_type": "code",
      "source": [
        "# Liste İçindeki Maksimum ve Minimum Değer\n",
        "# \n",
        "# sayilar = [15, 8, 22, 31, 5, 10]\n",
        "# o Listenin en büyük ve en küçük elemanını bulan kodu yazınız.\n",
        "\n",
        "sayilar = [15, 8, 22, 31, 5, 10]\n",
        "\n",
        "en_buyuk_deger = sayilar[0]\n",
        "en_kucuk_deger = sayilar[0]\n",
        "\n",
        "for eleman in sayilar:\n",
        "  en_buyuk_deger = eleman if eleman > en_buyuk_deger else en_buyuk_deger\n",
        "  en_kucuk_deger = eleman if eleman < en_kucuk_deger else en_kucuk_deger\n",
        "\n",
        "print(f\"en büyük değer: {en_buyuk_deger}\")\n",
        "print(f\"en küçük değer: {en_kucuk_deger}\")"
      ],
      "metadata": {
        "colab": {
          "base_uri": "https://localhost:8080/"
        },
        "id": "nflQqiaSyqyg",
        "outputId": "a569889c-0816-4068-960b-5799e5debfef"
      },
      "execution_count": 7,
      "outputs": [
        {
          "output_type": "stream",
          "name": "stdout",
          "text": [
            "en büyük değer: 31\n",
            "en küçük değer: 5\n"
          ]
        }
      ]
    },
    {
      "cell_type": "code",
      "source": [
        "# Belirtilen Aralıktaki Elemanları Seçme\n",
        "# \n",
        "# Sayilar2 = [10, 20, 30, 40, 50, 60, 70, 80, 90, 100]\n",
        "# o İlk 5 elemanı içeren yeni bir liste oluşturun ve yazdırın.\n",
        "# o Son 3 elemanı içeren yeni bir liste oluşturun ve yazdırın.\n",
        "# o 3. ve 7. indexler arasındaki elemanları içeren yeni bir liste oluşturun ve yazdırın.\n",
        "\n",
        "Sayilar2 = [10, 20, 30, 40, 50, 60, 70, 80, 90, 100]\n",
        "\n",
        "ilk_bes_eleman = Sayilar2[:5]\n",
        "son_uc_eleman = Sayilar2[-3:]\n",
        "ara_elemanlar = Sayilar2[3:8]\n",
        "\n",
        "print(ilk_bes_eleman)\n",
        "print(son_uc_eleman)\n",
        "print(ara_elemanlar)"
      ],
      "metadata": {
        "colab": {
          "base_uri": "https://localhost:8080/"
        },
        "id": "ejO04PRjy3eP",
        "outputId": "3089526c-eb30-4914-c7ab-6b0f089e08b3"
      },
      "execution_count": 12,
      "outputs": [
        {
          "output_type": "stream",
          "name": "stdout",
          "text": [
            "[10, 20, 30, 40, 50]\n",
            "[80, 90, 100]\n",
            "[40, 50, 60, 70, 80]\n"
          ]
        }
      ]
    },
    {
      "cell_type": "code",
      "source": [
        "# Enumerate Kullanımı\n",
        "# Aşağıdaki liste verilmiştir:\n",
        "# dersler = [\"Matematik\", \"Fizik\", \"Kimya\", \"Biyoloji\"]\n",
        "# Bu listeyi enumerate fonksiyonunu kullanarak her elemanın sırasıyla birlikte ekrana yazdıran bir kod yazın.\n",
        "\n",
        "dersler = [\"Matematik\", \"Fizik\", \"Kimya\", \"Biyoloji\"]\n",
        "\n",
        "for index, eleman in  enumerate(dersler):\n",
        "  print(f\"{index}: {eleman}\")"
      ],
      "metadata": {
        "colab": {
          "base_uri": "https://localhost:8080/"
        },
        "id": "luxcLq4l1AoF",
        "outputId": "3c943650-8864-4480-8983-661c52e1a97c"
      },
      "execution_count": 21,
      "outputs": [
        {
          "output_type": "stream",
          "name": "stdout",
          "text": [
            "0: Matematik\n",
            "1: Fizik\n",
            "2: Kimya\n",
            "3: Biyoloji\n"
          ]
        }
      ]
    },
    {
      "cell_type": "code",
      "source": [
        "# Enumerate Kullanımı(2)\n",
        "# Aşağıdaki liste verilmiştir:\n",
        "# dersler = [\"Matematik\", \"Fizik\", \"Kimya\", \"Biyoloji\"]\n",
        "# Bu listeyi enumerate fonksiyonunu kullanarak her elemanın sırasıyla birlikte ekrana yazdıran bir kod yazın.\n",
        "\n",
        "dersler = [\"Matematik\", \"Fizik\", \"Kimya\", \"Biyoloji\"]\n",
        "enum_dersler = list(enumerate(dersler))   #enumerate: listelere index ile beraber tanımlar.\n",
        "\n",
        "print(enum_dersler)"
      ],
      "metadata": {
        "colab": {
          "base_uri": "https://localhost:8080/"
        },
        "id": "PJpdKJUQ3fl_",
        "outputId": "a89ff768-9d45-4d3b-f938-9a1005843be3"
      },
      "execution_count": 22,
      "outputs": [
        {
          "output_type": "stream",
          "name": "stdout",
          "text": [
            "[(0, 'Matematik'), (1, 'Fizik'), (2, 'Kimya'), (3, 'Biyoloji')]\n"
          ]
        }
      ]
    },
    {
      "cell_type": "code",
      "source": [
        "# Küme (Set) İşlemleri\n",
        "# Aşağıda iki küme verilmiştir:\n",
        "# A = {10, 20, 30, 40, 50}\n",
        "# B = {30, 40, 50, 60, 70}\n",
        "# Bu kümeleri kullanarak aşağıdaki işlemleri gerçekleştirin:\n",
        "# A) A ve B kümelerinin birleşimini bulun.\n",
        "# B) A ve B kümelerinin kesişimini bulun.\n",
        "# C) A kümesinde olup B kümesinde olmayan elemanları bulun.\n",
        "# D) B kümesinde olup A kümesinde olmayan elemanları bulun.\n",
        "\n",
        "A = {10, 20, 30, 40, 50}\n",
        "B = {30, 40, 50, 60, 70}\n",
        "\n",
        "birlesik_kume = A.union(B)    #union() metodunu kümeleri birleştirmede kullanırım.\n",
        "kesisik_kume = A.intersection(B)    #intersection() metodu veya A&B operatörü kullanılabilir.\n",
        "A_fark_B = A.difference(B)    #difference() metodu veya A-B kullanılır.\n",
        "B_fark_A = B-A\n",
        "\n",
        "print(birlesik_kume)\n",
        "print(kesisik_kume)\n",
        "print(A_fark_B)\n",
        "print(B_fark_A)"
      ],
      "metadata": {
        "colab": {
          "base_uri": "https://localhost:8080/"
        },
        "id": "PqBSDtaT4YEY",
        "outputId": "74caabc4-291c-4eef-8b23-d6bed98cd8a0"
      },
      "execution_count": 26,
      "outputs": [
        {
          "output_type": "stream",
          "name": "stdout",
          "text": [
            "{70, 40, 10, 50, 20, 60, 30}\n",
            "{40, 50, 30}\n",
            "{10, 20}\n",
            "{60, 70}\n"
          ]
        }
      ]
    },
    {
      "cell_type": "code",
      "source": [
        "# Tuple İşlemleri\n",
        "# Aşağıda verilen veriler isimli tuple üzerinde aşağıdaki işlemleri gerçekleştirin:\n",
        "# veriler = (5, 10, 15, 20, 25, 30, 35)\n",
        "# A) veriler tuple’ının ilk üç elemanını ekrana yazdırın.\n",
        "# B) veriler tuple’ının son iki elemanını ekrana yazdırın.\n",
        "# C) veriler tuple’ının uzunluğunu bulun.\n",
        "# D) veriler içinde 20 sayısının olup olmadığını kontrol edin.\n",
        "\n",
        "veriler = (5,10,15,20,25,30,35)\n",
        "\n",
        "print(veriler[:3])\n",
        "\n",
        "print(veriler[-2:])\n",
        "\n",
        "uzunluk = len(veriler)\n",
        "print(uzunluk)\n",
        "\n",
        "kontrol = 20 in veriler\n",
        "print(kontrol)"
      ],
      "metadata": {
        "colab": {
          "base_uri": "https://localhost:8080/"
        },
        "id": "NnXbHQyc5CBl",
        "outputId": "873b589c-57a5-404a-fa3c-80d40c696f57"
      },
      "execution_count": 31,
      "outputs": [
        {
          "output_type": "stream",
          "name": "stdout",
          "text": [
            "(5, 10, 15)\n",
            "(30, 35)\n",
            "7\n",
            "True\n"
          ]
        }
      ]
    },
    {
      "cell_type": "code",
      "source": [
        "# Sözlük Güncelleme ve Erişim\n",
        "# Aşağıda verilen ogrenci sözlüğü üzerinde belirtilen işlemleri gerçekleştirin.\n",
        "# ogrenci = {\"isim\": \"Ahmet\", \"yas\": 20, \"bolum\": \"Bilgisayar Mühendisliği\"}\n",
        "# A) \"yas\" değerini 21 olarak güncelleyin.\n",
        "# B) Sözlüğe \"okul\" anahtarını \"İTÜ\" değeri ile ekleyin.\n",
        "# C) \"isim\" anahtarına karşılık gelen değeri ekrana yazdırın.\n",
        "\n",
        "ogrenci = {\"isim\": \"Ahmet Burak\",\"yas\": 22, \"bolum\": \"Bilgisayar Mühendisliği\" }\n",
        "\n",
        "ogrenci[\"yas\"] = 21\n",
        "print(f\"Öğrencinin yaşı: {ogrenci['yas']}\")   #print içinde \"\" kullandığımda onun içinde tekrar \"\" kullanamam. '' kullanmalıyım.\n",
        "\n",
        "ogrenci[\"okul\"] = \"İTÜ\"\n",
        "print(f\"öğrencinin okuduğu okul: {ogrenci['okul']}\")\n",
        "print(f\"isim: {ogrenci['isim']}\")"
      ],
      "metadata": {
        "colab": {
          "base_uri": "https://localhost:8080/"
        },
        "id": "lFMjZOdX7SlP",
        "outputId": "e3bcbc58-ddac-4774-e66c-f84181d2b693"
      },
      "execution_count": 51,
      "outputs": [
        {
          "output_type": "stream",
          "name": "stdout",
          "text": [
            "Öğrencinin yaşı: 21\n",
            "öğrencinin okuduğu okul: İTÜ\n",
            "isim: Ahmet Burak\n"
          ]
        }
      ]
    },
    {
      "cell_type": "code",
      "source": [
        "# Sözlük (Dictionary) Üzerinde Döngü Kullanımı\n",
        "# Aşağıda verilen ders_notlari sözlüğündeki öğrencilerin isimlerini ve notlarını ekrana yazdıran bir Python kodu yazın.\n",
        "# ders_notlari = {\n",
        "# \"Ali\": 85,\n",
        "# \"Zeynep\": 90,\n",
        "# \"Mehmet\": 78,\n",
        "# \"Elif\": 95\n",
        "# }\n",
        "\n",
        "ders_notlari = {\n",
        "\"Ali\": 85,\n",
        "\"Zeynep\": 90,\n",
        "\"Mehmet\": 78,\n",
        "\"Elif\": 95\n",
        "}\n",
        "\n",
        "enum_ders_notlari = enumerate(ders_notlari)   #enumerate metodu ile kolayca yaptım.***\n",
        "print(ders_notlari)"
      ],
      "metadata": {
        "colab": {
          "base_uri": "https://localhost:8080/"
        },
        "id": "QcRaAZ3C8eF-",
        "outputId": "6400d58a-ef6f-4a22-9bd4-04f3d944926a"
      },
      "execution_count": 57,
      "outputs": [
        {
          "output_type": "stream",
          "name": "stdout",
          "text": [
            "{'Ali': 85, 'Zeynep': 90, 'Mehmet': 78, 'Elif': 95}\n"
          ]
        }
      ]
    },
    {
      "cell_type": "code",
      "source": [
        "# Liste ve List Comprehension Kullanımı\n",
        "# Aşağıdaki işlemleri gerçekleştiren bir Python kodu yazın:\n",
        "# \n",
        "# \"Ankara\", \"İstanbul\", \"İzmir\", \"Bursa\", \"Antalya\", \"Adana\", \"Trabzon\" şehir isimlerini içeren bir liste oluşturun.\n",
        "# \n",
        "# İ harfi içeren şehirleri yeni bir listeye ekleyin.\n",
        "# \n",
        "# Aynı işlemi list comprehension kullanarak gerçekleştirin.\n",
        "\n",
        "\n",
        "# (1) geleneksel yöntemle yapılış:\n",
        "\n",
        "sehir_liste = [\"Ankara\", \"İstanbul\", \"İzmir\", \"Bursa\", \"Antalya\", \"Adana\", \"Trabzon\"]\n",
        "\n",
        "i_li_liste = []\n",
        "\n",
        "for eleman in sehir_liste:\n",
        "  for harf in eleman:\n",
        "    if harf == \"İ\":\n",
        "      i_li_liste.append(eleman)\n",
        "      break   #Birden fazla İ bulunduran şehirleri bu şekilde elerim.\n",
        "\n",
        "print(i_li_liste)"
      ],
      "metadata": {
        "colab": {
          "base_uri": "https://localhost:8080/"
        },
        "id": "acSqqOAL_xAW",
        "outputId": "dfd75acc-e2fe-4a8c-fca6-8c5eabac1ea2"
      },
      "execution_count": 72,
      "outputs": [
        {
          "output_type": "stream",
          "name": "stdout",
          "text": [
            "['İstanbul', 'İzmir']\n"
          ]
        }
      ]
    },
    {
      "cell_type": "code",
      "source": [
        "# Liste ve List Comprehension Kullanımı\n",
        "# Aşağıdaki işlemleri gerçekleştiren bir Python kodu yazın:\n",
        "# \n",
        "# \"Ankara\", \"İstanbul\", \"İzmir\", \"Bursa\", \"Antalya\", \"Adana\", \"Trabzon\" şehir isimlerini içeren bir liste oluşturun.\n",
        "# \n",
        "# İ harfi içeren şehirleri yeni bir listeye ekleyin.\n",
        "# \n",
        "# Aynı işlemi list comprehension kullanarak gerçekleştirin.\n",
        "\n",
        "\n",
        "# (2) list comprehension ile yapılış:\n",
        "\n",
        "sehir_liste = [\"Ankara\", \"İstanbul\", \"İzmir\", \"Bursa\", \"Antalya\", \"Adana\", \"Trabzon\"]\n",
        "\n",
        "i_li_liste = [eleman for eleman in i_li_liste if 'İ' in eleman]\n",
        "\n",
        "print(i_li_liste)\n",
        "\n"
      ],
      "metadata": {
        "colab": {
          "base_uri": "https://localhost:8080/"
        },
        "id": "yJzL7KIDEJg8",
        "outputId": "abd0addf-2bcd-4204-bdb6-d1b5e7bada4b"
      },
      "execution_count": 73,
      "outputs": [
        {
          "output_type": "stream",
          "name": "stdout",
          "text": [
            "['İstanbul', 'İzmir']\n"
          ]
        }
      ]
    },
    {
      "cell_type": "code",
      "source": [
        "# List Comprehension Kullanımı\n",
        "# Aşağıdaki işlemleri gerçekleştiren bir Python kodu yazın:\n",
        "# \n",
        "# 1 ile 50 arasındaki sayıları içeren bir liste oluşturun.\n",
        "# \n",
        "# Bu listenin sadece 5’e bölünebilen elemanlarını içeren yeni bir liste oluşturun (List Comprehension kullanarak).\n",
        "\n",
        "sayilar = [sayi for sayi in range(1,51)]\n",
        "print(sayilar)\n",
        "\n",
        "bese_bolunenler = [eleman for eleman in sayilar if eleman %5 == 0]\n",
        "print(bese_bolunenler)"
      ],
      "metadata": {
        "colab": {
          "base_uri": "https://localhost:8080/"
        },
        "id": "Qw8Py3iMCnlv",
        "outputId": "28e656ca-8b67-4937-eb5e-ba39170b7c94"
      },
      "execution_count": 77,
      "outputs": [
        {
          "output_type": "stream",
          "name": "stdout",
          "text": [
            "[1, 2, 3, 4, 5, 6, 7, 8, 9, 10, 11, 12, 13, 14, 15, 16, 17, 18, 19, 20, 21, 22, 23, 24, 25, 26, 27, 28, 29, 30, 31, 32, 33, 34, 35, 36, 37, 38, 39, 40, 41, 42, 43, 44, 45, 46, 47, 48, 49, 50]\n",
            "[5, 10, 15, 20, 25, 30, 35, 40, 45, 50]\n"
          ]
        }
      ]
    }
  ]
}