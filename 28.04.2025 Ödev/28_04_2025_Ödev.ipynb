{
  "nbformat": 4,
  "nbformat_minor": 0,
  "metadata": {
    "colab": {
      "provenance": []
    },
    "kernelspec": {
      "name": "python3",
      "display_name": "Python 3"
    },
    "language_info": {
      "name": "python"
    }
  },
  "cells": [
    {
      "cell_type": "code",
      "execution_count": null,
      "metadata": {
        "colab": {
          "base_uri": "https://localhost:8080/"
        },
        "id": "TpfTI7alMd7o",
        "outputId": "fabc3112-7e5a-496c-a6e7-f8b44fdb70f2"
      },
      "outputs": [
        {
          "output_type": "stream",
          "name": "stdout",
          "text": [
            "{1, 2, 3, 5, 8}\n"
          ]
        }
      ],
      "source": [
        "# Aşağıdaki listedeki tekrar eden elemanları kaldırarak benzersiz bir liste oluşturup yazdırın:\n",
        "numaralar = [8, 3, 8, 1, 2, 3, 5, 5]\n",
        "\n",
        "numaralar = set(numaralar)\n",
        "print(numaralar)"
      ]
    },
    {
      "cell_type": "code",
      "source": [
        "# Aşağıdaki sözlüğe \"ülke\": \"Japonya\" anahtar-değerini ekleyin ve sözlüğü yazdırın:\n",
        "\n",
        "sanatci = {\"isim\": \"Haruki\"}\n",
        "sanatci[\"ülke\"] = \"japonya\"\n",
        "print(sanatci)"
      ],
      "metadata": {
        "colab": {
          "base_uri": "https://localhost:8080/"
        },
        "id": "Cd5BiQE7Ohrq",
        "outputId": "670865f3-d797-4191-a2fe-49206007d29a"
      },
      "execution_count": null,
      "outputs": [
        {
          "output_type": "stream",
          "name": "stdout",
          "text": [
            "{'isim': 'Haruki', 'ülke': 'japonya'}\n"
          ]
        }
      ]
    },
    {
      "cell_type": "code",
      "source": [
        "# Kullanıcıdan bir kitap adı ve kaç tane almak istediğini alın. Stok yeterliyse siparişi tamamlayın, değilse \"Yetersiz stok\" mesajı verin:\n",
        "\n",
        "kitap_stok = {\"1984\": 4, \"Sefiller\": 2, \"Martı\": 5}\n",
        "\n",
        "kitap_adi = input(\"kitap adını girin: \")\n",
        "stok = int(input(\"kaç adet lazım: \"))\n",
        "\n",
        "if kitap_adi in kitap_stok:\n",
        "  if kitap_stok[kitap_adi] <= stok:\n",
        "    print(\"sipariş tamamlandı. \")\n",
        "  else:\n",
        "    print(\"yetersiz stok. \")"
      ],
      "metadata": {
        "id": "k59vploeOzlU",
        "colab": {
          "base_uri": "https://localhost:8080/"
        },
        "outputId": "e754da1a-ea73-44cb-9ce1-abfeae85b777"
      },
      "execution_count": null,
      "outputs": [
        {
          "output_type": "stream",
          "name": "stdout",
          "text": [
            "kitap adını girin: 1984\n",
            "kaç adet lazım: 3\n",
            "yetersiz stok. \n"
          ]
        }
      ]
    },
    {
      "cell_type": "code",
      "source": [
        "# Aşağıdaki sözlükten 2015 yılından sonra çıkmış ürünleri listeleyin:\n",
        "urunler = {\n",
        "\"Telefon\": {\"yil\": 2019},\n",
        "\"Televizyon\": {\"yil\": 2014},\n",
        "\"Laptop\": {\"yil\": 2021}\n",
        "}\n",
        "toplam = {}\n",
        "\n",
        "for eleman in urunler:\n",
        "  if urunler[eleman][\"yil\"] >= 2015:\n",
        "    toplam[eleman] = {\"yil\": urunler[eleman][\"yil\"]}\n",
        "\n",
        "print(toplam)"
      ],
      "metadata": {
        "id": "mC43zS4uQZ-c",
        "colab": {
          "base_uri": "https://localhost:8080/"
        },
        "outputId": "64bbba72-3391-4ccc-dbfd-4ede721199ef"
      },
      "execution_count": null,
      "outputs": [
        {
          "output_type": "stream",
          "name": "stdout",
          "text": [
            "{'Telefon': {'yil': 2019}, 'Laptop': {'yil': 2021}}\n"
          ]
        }
      ]
    },
    {
      "cell_type": "code",
      "source": [
        "# Aşağıdaki sözlükte \"hobiler\" listesine \"yüzme\" ifadesini ekleyin ve sonucu yazdırın:\n",
        "profil = {\n",
        "\"isim\": \"Nihan\",\n",
        "\"hobiler\": [\"yoga\", \"resim\"]\n",
        "}\n",
        "profil[\"hobiler\"].append(\"yüzme\")\n",
        "\n",
        "print(profil[\"hobiler\"])"
      ],
      "metadata": {
        "colab": {
          "base_uri": "https://localhost:8080/"
        },
        "id": "gZezRvU7w_p0",
        "outputId": "a23a1372-f237-466b-d657-47ffc86e1f64"
      },
      "execution_count": null,
      "outputs": [
        {
          "output_type": "stream",
          "name": "stdout",
          "text": [
            "['yoga', 'resim', 'yüzme']\n"
          ]
        }
      ]
    },
    {
      "cell_type": "code",
      "source": [
        "# Aşağıdaki sözlükte yer alan tüm anahtar-değer çiftlerini key: value formatında satır satır yazdırın:\n",
        "kurs = {\n",
        "\"ad\": \"Veri Bilimi\",\n",
        "\"süre\": \"6 hafta\",\n",
        "\"seviye\": \"Orta\"\n",
        "}\n",
        "\n",
        "for x, y in kurs.items():\n",
        "  print(f\"{x}: {y}\")"
      ],
      "metadata": {
        "colab": {
          "base_uri": "https://localhost:8080/"
        },
        "id": "tvWvtEYa35J4",
        "outputId": "688720db-fefd-4501-8386-0d730047aae6"
      },
      "execution_count": null,
      "outputs": [
        {
          "output_type": "stream",
          "name": "stdout",
          "text": [
            "ad: Veri Bilimi\n",
            "süre: 6 hafta\n",
            "seviye: Orta\n"
          ]
        }
      ]
    },
    {
      "cell_type": "code",
      "source": [
        "# Aşağıdaki sözlükten puanı 85 ve üzeri olan öğrencilerin adlarını yazdırın:\n",
        "notlar = {\n",
        "\"Ekin\": 91,\n",
        "\"Barış\": 76,\n",
        "\"Deniz\": 88,\n",
        "\"Umut\": 63\n",
        "}\n",
        "\n",
        "for x,y in notlar.items():\n",
        "  if y >= 85:\n",
        "    print(x)"
      ],
      "metadata": {
        "colab": {
          "base_uri": "https://localhost:8080/"
        },
        "id": "w0GY_ILz8ppf",
        "outputId": "2ed31ab7-c1e2-4375-c152-81c2df8d0266"
      },
      "execution_count": null,
      "outputs": [
        {
          "output_type": "stream",
          "name": "stdout",
          "text": [
            "Ekin\n",
            "Deniz\n"
          ]
        }
      ]
    },
    {
      "cell_type": "code",
      "source": [
        "# Kullanıcıdan bir şehir adı alıp aşağıdaki sözlükten bilgi getirin. Eğer şehir bulunmuyorsa “Veri yok” yazsın:\n",
        "sehir_bilgi = {\n",
        "\"Berlin\": {\"nüfus\": 3_600_000},\n",
        "\"Madrid\": {\"nüfus\": 3_200_000}\n",
        "}\n",
        "sehir = input(\"şehir adı giriniz: \")\n",
        "\n",
        "if sehir in sehir_bilgi:\n",
        "  print(sehir_bilgi[sehir])\n",
        "else:\n",
        "  print(\"veri yok. \")"
      ],
      "metadata": {
        "colab": {
          "base_uri": "https://localhost:8080/"
        },
        "id": "RMWxyFOS-N45",
        "outputId": "c88a89b2-b8e3-42c2-8d64-a38f72e8f9be"
      },
      "execution_count": null,
      "outputs": [
        {
          "output_type": "stream",
          "name": "stdout",
          "text": [
            "şehir adı giriniz: Madrid\n",
            "{'nüfus': 3200000}\n"
          ]
        }
      ]
    },
    {
      "cell_type": "code",
      "source": [
        "# Aşağıdaki sözlükte her ürünün fiyatına %15 zam yaparak güncellenmiş sözlüğü yazdırın:\n",
        "fiyatlar = {\n",
        "\"masa\": 1200,\n",
        "\"sandalye\": 450,\n",
        "\"lamba\": 300\n",
        "}\n",
        "\n",
        "for anahtar,deger in fiyatlar.items():\n",
        "  fiyatlar[anahtar] = fiyatlar[anahtar]*1.15\n",
        "\n",
        "for anahtar,deger in fiyatlar.items():\n",
        "  print(f\"{anahtar}: {deger}\")"
      ],
      "metadata": {
        "colab": {
          "base_uri": "https://localhost:8080/"
        },
        "id": "3SLEsTCkG0oz",
        "outputId": "f922b9e9-d7cd-4adf-f016-c9e23e9e1e21"
      },
      "execution_count": null,
      "outputs": [
        {
          "output_type": "stream",
          "name": "stdout",
          "text": [
            "masa: 1380.0\n",
            "sandalye: 517.5\n",
            "lamba: 345.0\n"
          ]
        }
      ]
    },
    {
      "cell_type": "code",
      "source": [
        "# İç içe geçmiş sözlükte “aktif” olan projeleri listeleyin:\n",
        "projeler = {\n",
        "\"ProjeX\": {\"durum\": \"aktif\", \"süre\": 3},\n",
        "\"ProjeY\": {\"durum\": \"tamamlandı\", \"süre\": 6},\n",
        "\"ProjeZ\": {\"durum\": \"aktif\", \"süre\": 2}\n",
        "}\n",
        "\n",
        "aktif_projeler = {}\n",
        "\n",
        "for x,y in projeler.items():\n",
        "  if y[\"durum\"] == \"aktif\":\n",
        "    aktif_projeler[x] = y\n",
        "\n",
        "print(aktif_projeler)"
      ],
      "metadata": {
        "colab": {
          "base_uri": "https://localhost:8080/"
        },
        "id": "kmPTxBQDH5Gb",
        "outputId": "60a754c4-2de7-49e0-912b-3f0293b93462"
      },
      "execution_count": 4,
      "outputs": [
        {
          "output_type": "stream",
          "name": "stdout",
          "text": [
            "{'ProjeX': {'durum': 'aktif', 'süre': 3}, 'ProjeZ': {'durum': 'aktif', 'süre': 2}}\n"
          ]
        }
      ]
    }
  ]
}