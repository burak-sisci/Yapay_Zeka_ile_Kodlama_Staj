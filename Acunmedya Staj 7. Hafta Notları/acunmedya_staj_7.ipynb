{
 "cells": [
  {
   "cell_type": "code",
   "execution_count": null,
   "metadata": {
    "colab": {
     "base_uri": "https://localhost:8080/"
    },
    "id": "0hws5nKp-l17",
    "outputId": "1de0f7e6-37a9-41d5-ab9d-cf9e8ca984b1"
   },
   "outputs": [
    {
     "name": "stdout",
     "output_type": "stream",
     "text": [
      "[1, 2, 3, 4, 5]\n"
     ]
    }
   ],
   "source": [
    "my_list = [1,2,3,4,5]\n",
    "print(my_list)"
   ]
  },
  {
   "cell_type": "code",
   "execution_count": null,
   "metadata": {
    "colab": {
     "base_uri": "https://localhost:8080/"
    },
    "id": "S2ogAYMQ-3h7",
    "outputId": "ca586e72-8460-4941-f706-7ac2f4309d1b"
   },
   "outputs": [
    {
     "name": "stdout",
     "output_type": "stream",
     "text": [
      "<class 'list'>\n",
      "<class 'list'>\n"
     ]
    }
   ],
   "source": [
    "#boş liste oluşturma işlemi\n",
    "\n",
    "a = list()\n",
    "b = []\n",
    "\n",
    "print(type(a))\n",
    "print(type(b))"
   ]
  },
  {
   "cell_type": "code",
   "execution_count": null,
   "metadata": {
    "colab": {
     "base_uri": "https://localhost:8080/"
    },
    "id": "nV7cBGAp-39W",
    "outputId": "f3a233c9-d383-49d4-897f-cad741e94c8a"
   },
   "outputs": [
    {
     "name": "stdout",
     "output_type": "stream",
     "text": [
      "[1, 2, 3, 4, 5, 7, 'selam', False]\n"
     ]
    }
   ],
   "source": [
    "#append(eleman): ilgili elemanı listenin sonuna ekler.\n",
    "\n",
    "my_list.append(7)\n",
    "my_list.append(\"selam\")\n",
    "my_list.append(False)\n",
    "\n",
    "print(my_list)"
   ]
  },
  {
   "cell_type": "code",
   "execution_count": null,
   "metadata": {
    "colab": {
     "base_uri": "https://localhost:8080/"
    },
    "id": "jubORjpJ_UJ7",
    "outputId": "21fee6e3-f3c2-4627-9738-5e821b9162ec"
   },
   "outputs": [
    {
     "name": "stdout",
     "output_type": "stream",
     "text": [
      "[1, 2, 3, 4, 5, 7, 'selam', False, 'buse', 'doğan', 'burak', 'şişci']\n"
     ]
    }
   ],
   "source": [
    "#extend(eleman listesi): birden fazla eleman eklemek için kullanılır.\n",
    "\n",
    "my_list.extend([\"buse\",\"doğan\",\"burak\",\"şişci\"])\n",
    "\n",
    "print(my_list)"
   ]
  },
  {
   "cell_type": "code",
   "execution_count": null,
   "metadata": {
    "colab": {
     "base_uri": "https://localhost:8080/"
    },
    "id": "ILkEHfwN_r1l",
    "outputId": "df8a1c97-62ee-4d36-8913-b0a59189a513"
   },
   "outputs": [
    {
     "name": "stdout",
     "output_type": "stream",
     "text": [
      "[1, 2, 3, 4, 5, 6, 7, 'selam', False, 'buse', 'doğan', 'burak', 'şişci']\n"
     ]
    }
   ],
   "source": [
    "#insert(index,eleman): listede ilgili indexe eleman ekleme işlemi yapar. eski veriyi ise 1 birim sağa kaydırır.\n",
    "\n",
    "my_list.insert(5,6)\n",
    "\n",
    "print(my_list)"
   ]
  },
  {
   "cell_type": "code",
   "execution_count": null,
   "metadata": {
    "colab": {
     "base_uri": "https://localhost:8080/"
    },
    "id": "CXs82eKqAKxY",
    "outputId": "e0eb3aad-e5c0-49e9-d77b-5279d1cb0282"
   },
   "outputs": [
    {
     "name": "stdout",
     "output_type": "stream",
     "text": [
      "[1, 2, 3, 4, 5, 6, 7, 'selam', 'buse', 'doğan', 'burak', 'şişci']\n"
     ]
    }
   ],
   "source": [
    "#remove(eleman): ilgili elemanı listeden siler.\n",
    "\n",
    "my_list.remove(False)\n",
    "\n",
    "print(my_list)"
   ]
  },
  {
   "cell_type": "code",
   "execution_count": null,
   "metadata": {
    "colab": {
     "base_uri": "https://localhost:8080/"
    },
    "id": "QBKgZlDkAcW4",
    "outputId": "a2f60718-2ba4-4e8b-e598-18934b7e020e"
   },
   "outputs": [
    {
     "name": "stdout",
     "output_type": "stream",
     "text": [
      "[1, 2, 3, 4, 5, 6, 7, 'buse', 'doğan', 'burak', 'şişci']\n"
     ]
    }
   ],
   "source": [
    "my_list.remove(\"selam\")\n",
    "\n",
    "print(my_list)"
   ]
  },
  {
   "cell_type": "code",
   "execution_count": null,
   "metadata": {
    "colab": {
     "base_uri": "https://localhost:8080/"
    },
    "id": "0lbiZOV2Ae6n",
    "outputId": "c26cef78-c3fd-4d60-8056-18366e2a613a"
   },
   "outputs": [
    {
     "name": "stdout",
     "output_type": "stream",
     "text": [
      "[1, 2, 3, 4, 5, 6, 7, 'buse', 'burak']\n"
     ]
    }
   ],
   "source": [
    "#pop(index): index numarasına göre ilgili veriyi listeden siler.\n",
    "\n",
    "my_list.pop(8)\n",
    "\n",
    "print(my_list)"
   ]
  },
  {
   "cell_type": "code",
   "execution_count": null,
   "metadata": {
    "colab": {
     "base_uri": "https://localhost:8080/"
    },
    "id": "zwjaZ4EWBEI4",
    "outputId": "f4511c4a-15e1-40d2-d509-9d057126ceab"
   },
   "outputs": [
    {
     "name": "stdout",
     "output_type": "stream",
     "text": [
      "[1, 2, 3, 4, 5, 6, 7, 'buse']\n"
     ]
    }
   ],
   "source": [
    "#parametre girmezsek listedeki son elemanı siler.\n",
    "\n",
    "my_list.pop()\n",
    "\n",
    "print(my_list)"
   ]
  },
  {
   "cell_type": "code",
   "execution_count": null,
   "metadata": {
    "colab": {
     "base_uri": "https://localhost:8080/"
    },
    "id": "IUNkkw9fBSAn",
    "outputId": "dbe09118-1475-46cc-a81d-bfaa4ceb6e4a"
   },
   "outputs": [
    {
     "name": "stdout",
     "output_type": "stream",
     "text": [
      "[2, 3, 4, 5, 6, 7, 'buse']\n"
     ]
    }
   ],
   "source": [
    "#del komutu ile de istediğimiz elemanı silebiliriz.\n",
    "\n",
    "del my_list[0]\n",
    "\n",
    "print(my_list)"
   ]
  },
  {
   "cell_type": "code",
   "execution_count": null,
   "metadata": {
    "colab": {
     "base_uri": "https://localhost:8080/"
    },
    "id": "o2PCWvxvBq7H",
    "outputId": "f655e907-faf3-4247-b761-b722cc63bfba"
   },
   "outputs": [
    {
     "name": "stdout",
     "output_type": "stream",
     "text": [
      "Buse nin index numarası: 6\n"
     ]
    }
   ],
   "source": [
    "#index(buse): elemanın index numarsını bulmak için kullanılır.\n",
    "\n",
    "print(f\"Buse nin index numarası: {my_list.index('buse')}\")"
   ]
  },
  {
   "cell_type": "code",
   "execution_count": null,
   "metadata": {
    "colab": {
     "base_uri": "https://localhost:8080/"
    },
    "id": "N4G-pej7B-K_",
    "outputId": "e7482110-fe95-4ce1-9d69-65cf4328d86b"
   },
   "outputs": [
    {
     "name": "stdout",
     "output_type": "stream",
     "text": [
      "Buse kelimesi listede kaç yerde geçmiştir : 0\n"
     ]
    }
   ],
   "source": [
    "# count(eleman) : Liste içerisindeki elemanın kaç kez geçtiğini gösterir.\n",
    "\n",
    "print(f\"Buse kelimesi listede kaç yerde geçmiştir : {my_list.count('Buse')}\")"
   ]
  },
  {
   "cell_type": "code",
   "execution_count": null,
   "metadata": {
    "colab": {
     "base_uri": "https://localhost:8080/",
     "height": 211
    },
    "id": "5_VzlL3OCcfH",
    "outputId": "5a69bd05-7e26-4560-9317-6677f9d3dfc3"
   },
   "outputs": [
    {
     "ename": "TypeError",
     "evalue": "'<' not supported between instances of 'str' and 'int'",
     "output_type": "error",
     "traceback": [
      "\u001b[0;31m---------------------------------------------------------------------------\u001b[0m",
      "\u001b[0;31mTypeError\u001b[0m                                 Traceback (most recent call last)",
      "\u001b[0;32m<ipython-input-25-9be0b796c66e>\u001b[0m in \u001b[0;36m<cell line: 0>\u001b[0;34m()\u001b[0m\n\u001b[1;32m      1\u001b[0m \u001b[0;31m# sort() Listeyi küçükten büyüğe sıralar.\u001b[0m\u001b[0;34m\u001b[0m\u001b[0;34m\u001b[0m\u001b[0m\n\u001b[1;32m      2\u001b[0m \u001b[0;34m\u001b[0m\u001b[0m\n\u001b[0;32m----> 3\u001b[0;31m \u001b[0mmy_list\u001b[0m\u001b[0;34m.\u001b[0m\u001b[0msort\u001b[0m\u001b[0;34m(\u001b[0m\u001b[0;34m)\u001b[0m\u001b[0;34m\u001b[0m\u001b[0;34m\u001b[0m\u001b[0m\n\u001b[0m\u001b[1;32m      4\u001b[0m \u001b[0;34m\u001b[0m\u001b[0m\n\u001b[1;32m      5\u001b[0m \u001b[0mprint\u001b[0m\u001b[0;34m(\u001b[0m\u001b[0mmy_list\u001b[0m\u001b[0;34m)\u001b[0m\u001b[0;34m\u001b[0m\u001b[0;34m\u001b[0m\u001b[0m\n",
      "\u001b[0;31mTypeError\u001b[0m: '<' not supported between instances of 'str' and 'int'"
     ]
    }
   ],
   "source": [
    "# sort() Listeyi küçükten büyüğe sıralar.\n",
    "\n",
    "my_list.sort()\n",
    "\n",
    "print(my_list)"
   ]
  },
  {
   "cell_type": "code",
   "execution_count": null,
   "metadata": {
    "id": "8_vOsDn6CoNF"
   },
   "outputs": [],
   "source": [
    "#listenin tümünün str veya int değere sahip olması gerekiyor."
   ]
  },
  {
   "cell_type": "code",
   "execution_count": null,
   "metadata": {
    "colab": {
     "base_uri": "https://localhost:8080/"
    },
    "id": "YHTfGTfzCtiX",
    "outputId": "2b80ed69-acae-4fbe-d89c-5dadbb00f8f7"
   },
   "outputs": [
    {
     "name": "stdout",
     "output_type": "stream",
     "text": [
      "[10, 25, 25, 34, 36, 47, 71, 85, 96]\n"
     ]
    }
   ],
   "source": [
    "new_list = [34, 25, 10, 47, 85, 96, 71, 25, 36]\n",
    "\n",
    "new_list.sort()\n",
    "\n",
    "print(new_list)"
   ]
  },
  {
   "cell_type": "code",
   "execution_count": null,
   "metadata": {
    "colab": {
     "base_uri": "https://localhost:8080/"
    },
    "id": "r6AWBTcXCzeG",
    "outputId": "a3d5b8fa-65f0-4c68-9de7-308ee5465f0b"
   },
   "outputs": [
    {
     "name": "stdout",
     "output_type": "stream",
     "text": [
      "[2, 3, 4, 5, 6, 7, 'buse']\n",
      "[10, 25, 25, 34, 36, 47, 71, 85, 96]\n"
     ]
    }
   ],
   "source": [
    "#reverse(): listeyi tersine çevirir.\n",
    "\n",
    "my_list.reverse()\n",
    "\n",
    "print(my_list)\n",
    "print(new_list)"
   ]
  },
  {
   "cell_type": "code",
   "execution_count": null,
   "metadata": {
    "colab": {
     "base_uri": "https://localhost:8080/"
    },
    "id": "F4BVHzKADOxc",
    "outputId": "c511d690-0795-4f2e-dbbc-4eea48191c54"
   },
   "outputs": [
    {
     "name": "stdout",
     "output_type": "stream",
     "text": [
      "[10, 25, 25, 34, 36, 41, 47, 71, 78, 85, 88, 96]\n"
     ]
    }
   ],
   "source": [
    "a = [34, 25, 10, 47, 85, 96, 71, 25, 36, 41, 78, 88]\n",
    "\n",
    "sorted_list = sorted(a)\n",
    "\n",
    "print(sorted_list)"
   ]
  },
  {
   "cell_type": "code",
   "execution_count": null,
   "metadata": {
    "colab": {
     "base_uri": "https://localhost:8080/"
    },
    "id": "LR_-gwTnDko4",
    "outputId": "c9a8d54e-5db3-489a-a7a3-8a180822b8f1"
   },
   "outputs": [
    {
     "name": "stdout",
     "output_type": "stream",
     "text": [
      "[96, 88, 85, 78, 71, 47, 41, 36, 34, 25, 25, 10]\n"
     ]
    }
   ],
   "source": [
    "print(list(reversed(sorted_list)))"
   ]
  },
  {
   "cell_type": "code",
   "execution_count": null,
   "metadata": {
    "id": "V9lV-D2yDoGH"
   },
   "outputs": [],
   "source": [
    "#sonuna 'ed' eklediğin zaman değişim olmadan sadece değer döndürür. /sorted() /reversed()"
   ]
  },
  {
   "cell_type": "code",
   "execution_count": null,
   "metadata": {
    "colab": {
     "base_uri": "https://localhost:8080/"
    },
    "id": "gviWNtbiD6p_",
    "outputId": "e1cef527-d4c8-4ec3-cc73-db47ec2ceaf9"
   },
   "outputs": [
    {
     "name": "stdout",
     "output_type": "stream",
     "text": [
      "0 = İstanbul\n",
      "1 = Tunceli\n",
      "2 = Adıyaman\n",
      "3 = Malatya\n",
      "4 = Ankara\n",
      "5 = İzmir\n",
      "6 = Adana\n"
     ]
    }
   ],
   "source": [
    "#index numarasına göre gösterime girdik.\n",
    "\n",
    "cities = ['İstanbul', 'Tunceli', 'Adıyaman', 'Malatya', 'Ankara', 'İzmir', 'Adana']\n",
    "\n",
    "for index, value in enumerate(cities):\n",
    "    print(f'{index} = {value}')"
   ]
  },
  {
   "cell_type": "code",
   "execution_count": null,
   "metadata": {
    "colab": {
     "base_uri": "https://localhost:8080/"
    },
    "id": "91KbEcFVE8cK",
    "outputId": "a12f8602-f9df-4e62-8783-c86b4b0d93a5"
   },
   "outputs": [
    {
     "name": "stdout",
     "output_type": "stream",
     "text": [
      "{1, 2, 3}\n",
      "<class 'set'>\n"
     ]
    }
   ],
   "source": [
    "# set : Bir küme içerisinde benzersiz öğeleri tutmak için kullanılır.\n",
    "\n",
    "my_set = {1, 2, 3}\n",
    "\n",
    "print(my_set)\n",
    "print(type(my_set))"
   ]
  },
  {
   "cell_type": "code",
   "execution_count": null,
   "metadata": {
    "colab": {
     "base_uri": "https://localhost:8080/"
    },
    "id": "11cE8DOKFTlj",
    "outputId": "f8e2cc4c-69dd-4bc3-ea06-8b6d287fc5b8"
   },
   "outputs": [
    {
     "name": "stdout",
     "output_type": "stream",
     "text": [
      "<class 'set'>\n"
     ]
    }
   ],
   "source": [
    "empty_set = set()\n",
    "print(type(empty_set))"
   ]
  },
  {
   "cell_type": "code",
   "execution_count": null,
   "metadata": {
    "colab": {
     "base_uri": "https://localhost:8080/"
    },
    "id": "4zFR0NMlED5K",
    "outputId": "e353556e-4f35-4c90-9ed4-ec47f923c618"
   },
   "outputs": [
    {
     "name": "stdout",
     "output_type": "stream",
     "text": [
      "<class 'dict'>\n"
     ]
    }
   ],
   "source": [
    "new = {}\n",
    "\n",
    "print(type(new))"
   ]
  },
  {
   "cell_type": "code",
   "execution_count": null,
   "metadata": {
    "colab": {
     "base_uri": "https://localhost:8080/"
    },
    "id": "cAhj4ufmFW08",
    "outputId": "78f49e9d-22de-4afc-d564-27b3174985f0"
   },
   "outputs": [
    {
     "name": "stdout",
     "output_type": "stream",
     "text": [
      "{1, 2, 3}\n"
     ]
    }
   ],
   "source": [
    "my_set.add(3)\n",
    "\n",
    "print(my_set)"
   ]
  },
  {
   "cell_type": "code",
   "execution_count": null,
   "metadata": {
    "colab": {
     "base_uri": "https://localhost:8080/"
    },
    "id": "aOrxtlLNFjKH",
    "outputId": "bbe9ab4b-a149-48a3-d057-30cb3e90f283"
   },
   "outputs": [
    {
     "name": "stdout",
     "output_type": "stream",
     "text": [
      "{1, 2, 3, 4}\n"
     ]
    }
   ],
   "source": [
    "#set ögeleri tekilleştirir.\n",
    "\n",
    "a = {1, 1, 2, 2, 3, 3, 3, 4, 4, 4}\n",
    "\n",
    "print(a)"
   ]
  },
  {
   "cell_type": "code",
   "execution_count": null,
   "metadata": {
    "colab": {
     "base_uri": "https://localhost:8080/"
    },
    "id": "oa9owpfiFyFs",
    "outputId": "f0c43777-c1b3-46c4-d557-1332f254ca30"
   },
   "outputs": [
    {
     "name": "stdout",
     "output_type": "stream",
     "text": [
      "{1, 2, 3, 4}\n",
      "[1, 1, 2, 2, 3, 3, 3, 4, 4, 4]\n"
     ]
    }
   ],
   "source": [
    "#set ve liste arasında çevrim yapabilirim.\n",
    "\n",
    "my_list = [1, 1, 2, 2, 3, 3, 3, 4, 4, 4]\n",
    "set1 = set(my_list)\n",
    "\n",
    "print(set1)\n",
    "print(my_list)"
   ]
  },
  {
   "cell_type": "code",
   "execution_count": null,
   "metadata": {
    "colab": {
     "base_uri": "https://localhost:8080/"
    },
    "id": "ztJPgfsUGDOv",
    "outputId": "4bf47348-15d7-4a31-e98b-58cdcbb1086d"
   },
   "outputs": [
    {
     "name": "stdout",
     "output_type": "stream",
     "text": [
      "{1, 2, 4}\n"
     ]
    }
   ],
   "source": [
    "set1.remove(3)\n",
    "\n",
    "print(set1)"
   ]
  },
  {
   "cell_type": "code",
   "execution_count": null,
   "metadata": {
    "colab": {
     "base_uri": "https://localhost:8080/",
     "height": 176
    },
    "id": "N3sB0kESGSDt",
    "outputId": "daa6ced4-eaa6-4009-8530-bc972044e32e"
   },
   "outputs": [
    {
     "ename": "KeyError",
     "evalue": "3",
     "output_type": "error",
     "traceback": [
      "\u001b[0;31m---------------------------------------------------------------------------\u001b[0m",
      "\u001b[0;31mKeyError\u001b[0m                                  Traceback (most recent call last)",
      "\u001b[0;32m<ipython-input-48-72ba820bd455>\u001b[0m in \u001b[0;36m<cell line: 0>\u001b[0;34m()\u001b[0m\n\u001b[0;32m----> 1\u001b[0;31m \u001b[0mset1\u001b[0m\u001b[0;34m.\u001b[0m\u001b[0mremove\u001b[0m\u001b[0;34m(\u001b[0m\u001b[0;36m3\u001b[0m\u001b[0;34m)\u001b[0m\u001b[0;34m\u001b[0m\u001b[0;34m\u001b[0m\u001b[0m\n\u001b[0m\u001b[1;32m      2\u001b[0m \u001b[0;34m\u001b[0m\u001b[0m\n\u001b[1;32m      3\u001b[0m \u001b[0mprint\u001b[0m\u001b[0;34m(\u001b[0m\u001b[0mset1\u001b[0m\u001b[0;34m)\u001b[0m\u001b[0;34m\u001b[0m\u001b[0;34m\u001b[0m\u001b[0m\n",
      "\u001b[0;31mKeyError\u001b[0m: 3"
     ]
    }
   ],
   "source": [
    "set1.remove(3)\n",
    "\n",
    "print(set1)"
   ]
  },
  {
   "cell_type": "code",
   "execution_count": null,
   "metadata": {
    "colab": {
     "base_uri": "https://localhost:8080/"
    },
    "id": "ADZPI1aDGTiP",
    "outputId": "1dddd723-62e5-4d1f-bf70-2bf2bf635186"
   },
   "outputs": [
    {
     "name": "stdout",
     "output_type": "stream",
     "text": [
      "{1, 2, 4}\n"
     ]
    }
   ],
   "source": [
    "#discard(eleman): ilgili elemanı siler. eğer eleman yoksa hata vermez.\n",
    "\n",
    "set1.discard(3)\n",
    "print(set1)"
   ]
  },
  {
   "cell_type": "code",
   "execution_count": null,
   "metadata": {
    "colab": {
     "base_uri": "https://localhost:8080/"
    },
    "id": "UKwtnw2dGkq9",
    "outputId": "88883b6f-a79c-49f4-db75-ba7785f59790"
   },
   "outputs": [
    {
     "name": "stdout",
     "output_type": "stream",
     "text": [
      "iki kümenin birleşimi : {1, 2, 3, 4, 5}\n"
     ]
    }
   ],
   "source": [
    "#union(eleman): kümeleri birleştirir.\n",
    "\n",
    "a = {1, 2, 3}\n",
    "b = {3, 4, 5}\n",
    "\n",
    "print(f'iki kümenin birleşimi : {a.union(b)}')"
   ]
  },
  {
   "cell_type": "code",
   "execution_count": null,
   "metadata": {
    "colab": {
     "base_uri": "https://localhost:8080/"
    },
    "id": "cPl4w6gAG0dO",
    "outputId": "38262875-e7bd-467c-81bd-27e7d28d6280"
   },
   "outputs": [
    {
     "name": "stdout",
     "output_type": "stream",
     "text": [
      "iki kümenin ortak elemanlarının(kesişim kümesi) :{3}\n"
     ]
    }
   ],
   "source": [
    "#intersection(): kesişim kümesini hesaplar.\n",
    "\n",
    "print(f\"iki kümenin ortak elemanlarının(kesişim kümesi) :{a.intersection(b)}\")"
   ]
  },
  {
   "cell_type": "code",
   "execution_count": null,
   "metadata": {
    "colab": {
     "base_uri": "https://localhost:8080/"
    },
    "id": "X5snT9uLHAFQ",
    "outputId": "1548b888-f595-479d-e94e-2b568eb1cb57"
   },
   "outputs": [
    {
     "name": "stdout",
     "output_type": "stream",
     "text": [
      "a kümesinde olup a kümesinde olmayan (a/b) :{1, 2}\n",
      "b kümesinde olup b kümesinde olmayan (b/a) :{4, 5}\n"
     ]
    }
   ],
   "source": [
    "#difference(): kümelerin birbirinden farkını gösterir. ;\n",
    "\n",
    "print(f\"a kümesinde olup a kümesinde olmayan (a/b) :{a.difference(b)}\")\n",
    "print(f\"b kümesinde olup b kümesinde olmayan (b/a) :{b.difference(a)}\")\n"
   ]
  },
  {
   "cell_type": "code",
   "execution_count": null,
   "metadata": {
    "colab": {
     "base_uri": "https://localhost:8080/"
    },
    "id": "K5Fr22okHfQB",
    "outputId": "0646dafc-5b6a-409b-8a25-d6ae8bc426ef"
   },
   "outputs": [
    {
     "name": "stdout",
     "output_type": "stream",
     "text": [
      "a ve b kümelerinde ortak olarak bulunmayan elemanlar : {1, 2, 4, 5}\n"
     ]
    }
   ],
   "source": [
    "#symmetric_difference(): a ve b kümesinde ortak olarak bulunmayan ögeleri verir.\n",
    "\n",
    "print(f'a ve b kümelerinde ortak olarak bulunmayan elemanlar : {a.symmetric_difference(b)}')"
   ]
  },
  {
   "cell_type": "code",
   "execution_count": null,
   "metadata": {
    "colab": {
     "base_uri": "https://localhost:8080/",
     "height": 176
    },
    "id": "t6CJswDTIDBD",
    "outputId": "47cb3299-eca9-4d19-8341-58d2feb41c16"
   },
   "outputs": [
    {
     "ename": "NameError",
     "evalue": "name 'rekler' is not defined",
     "output_type": "error",
     "traceback": [
      "\u001b[0;31m---------------------------------------------------------------------------\u001b[0m",
      "\u001b[0;31mNameError\u001b[0m                                 Traceback (most recent call last)",
      "\u001b[0;32m<ipython-input-59-0841772aa1b4>\u001b[0m in \u001b[0;36m<cell line: 0>\u001b[0;34m()\u001b[0m\n\u001b[1;32m      2\u001b[0m \u001b[0;34m\u001b[0m\u001b[0m\n\u001b[1;32m      3\u001b[0m \u001b[0mrenkler\u001b[0m \u001b[0;34m=\u001b[0m \u001b[0;34m(\u001b[0m\u001b[0;34m\"kırmızı\"\u001b[0m\u001b[0;34m,\u001b[0m\u001b[0;34m\"sarı\"\u001b[0m\u001b[0;34m,\u001b[0m\u001b[0;34m\"lacivert\"\u001b[0m\u001b[0;34m,\u001b[0m\u001b[0;34m\"yeşil\"\u001b[0m\u001b[0;34m)\u001b[0m\u001b[0;34m\u001b[0m\u001b[0;34m\u001b[0m\u001b[0m\n\u001b[0;32m----> 4\u001b[0;31m \u001b[0mrekler\u001b[0m\u001b[0;34m.\u001b[0m\u001b[0mappend\u001b[0m\u001b[0;34m(\u001b[0m\u001b[0;34m\"mavi\"\u001b[0m\u001b[0;34m)\u001b[0m   \u001b[0;31m#ekleme yapılamaz.\u001b[0m\u001b[0;34m\u001b[0m\u001b[0;34m\u001b[0m\u001b[0m\n\u001b[0m",
      "\u001b[0;31mNameError\u001b[0m: name 'rekler' is not defined"
     ]
    }
   ],
   "source": [
    "#tuple: sıralı ve değiştirilemeyen veri tipidir.\n",
    "\n",
    "renkler = (\"kırmızı\",\"sarı\",\"lacivert\",\"yeşil\")\n",
    "rekler.append(\"mavi\")   #ekleme yapılamaz."
   ]
  },
  {
   "cell_type": "code",
   "execution_count": null,
   "metadata": {
    "colab": {
     "base_uri": "https://localhost:8080/"
    },
    "id": "LPcGBqzzIzkd",
    "outputId": "e2b9a1ee-016e-4712-d11e-b95a23b0d1a0"
   },
   "outputs": [
    {
     "name": "stdout",
     "output_type": "stream",
     "text": [
      "('kırmızı', 'sarı', 'lacivert', 'yeşil')\n",
      "<class 'tuple'>\n"
     ]
    }
   ],
   "source": [
    "print(renkler)\n",
    "print(type(renkler))"
   ]
  },
  {
   "cell_type": "code",
   "execution_count": null,
   "metadata": {
    "colab": {
     "base_uri": "https://localhost:8080/"
    },
    "id": "iSnxB4vWI85I",
    "outputId": "843bd4a8-a49c-4841-edf0-beef1c03b4f4"
   },
   "outputs": [
    {
     "name": "stdout",
     "output_type": "stream",
     "text": [
      "Ahmet Burak\n",
      "ŞİŞCİ\n",
      "matematik\n"
     ]
    }
   ],
   "source": [
    "ad,soyad,ders = (\"Ahmet Burak\",\"ŞİŞCİ\",\"matematik\")\n",
    "\n",
    "print(ad)\n",
    "print(soyad)\n",
    "print(ders)"
   ]
  },
  {
   "cell_type": "code",
   "execution_count": null,
   "metadata": {
    "colab": {
     "base_uri": "https://localhost:8080/"
    },
    "id": "1eTzGCA5JdGd",
    "outputId": "c4270068-da4c-49d0-d937-3febc655d822"
   },
   "outputs": [
    {
     "name": "stdout",
     "output_type": "stream",
     "text": [
      "['sarı', 'kırmızı']\n",
      "['siyah', 'beyaz']\n",
      "['mavi', 'pembe']\n"
     ]
    }
   ],
   "source": [
    "gs, bjk , ıs = ([\"sarı\",\"kırmızı\"],[\"siyah\",\"beyaz\"],[\"mavi\",\"pembe\"])\n",
    "\n",
    "print(gs)\n",
    "print(bjk)\n",
    "print(ıs)"
   ]
  },
  {
   "cell_type": "code",
   "execution_count": null,
   "metadata": {
    "colab": {
     "base_uri": "https://localhost:8080/"
    },
    "id": "CwXmyEWRJ0Tk",
    "outputId": "549834a4-440a-4c03-c325-8d5e04b9b072"
   },
   "outputs": [
    {
     "name": "stdout",
     "output_type": "stream",
     "text": [
      "{'Kiraz': 25, 'Vişne': 55, 'Kivi': 250}\n"
     ]
    }
   ],
   "source": [
    "# dict(sözlük) : anahtar - değer çiftlerini taşıyan bir veri tipidir.\n",
    "\n",
    "manav = {'Kiraz': 25, 'Vişne': 55, 'Kivi': 250}\n",
    "\n",
    "print(manav)"
   ]
  },
  {
   "cell_type": "code",
   "execution_count": null,
   "metadata": {
    "colab": {
     "base_uri": "https://localhost:8080/"
    },
    "id": "HdEypNNSOwW1",
    "outputId": "cd4b9d39-0799-4a1d-ce78-c3243467f084"
   },
   "outputs": [
    {
     "name": "stdout",
     "output_type": "stream",
     "text": [
      "25\n"
     ]
    }
   ],
   "source": [
    "#Kirazını değerini yazdıracağım.\n",
    "print(manav.get(\"Kiraz\"))"
   ]
  },
  {
   "cell_type": "code",
   "execution_count": null,
   "metadata": {
    "colab": {
     "base_uri": "https://localhost:8080/"
    },
    "id": "7igeFJefO2-k",
    "outputId": "f5c0e572-2e2d-4cda-b71d-0fc88ed16218"
   },
   "outputs": [
    {
     "name": "stdout",
     "output_type": "stream",
     "text": [
      "None\n"
     ]
    }
   ],
   "source": [
    "print(manav.get(\"Kayısı\"))"
   ]
  },
  {
   "cell_type": "code",
   "execution_count": null,
   "metadata": {
    "colab": {
     "base_uri": "https://localhost:8080/"
    },
    "id": "cbEfH2XyPBb5",
    "outputId": "cce4c3ca-145f-4d2e-be98-7f0b335c1b53"
   },
   "outputs": [
    {
     "name": "stdout",
     "output_type": "stream",
     "text": [
      "elimde kalmadı.\n"
     ]
    }
   ],
   "source": [
    "print(manav.get(\"Kayısı\",\"elimde kalmadı.\"))    #istediğim değerin olmaması durumunda vereceği çıktıyı ayarlıyorum."
   ]
  },
  {
   "cell_type": "code",
   "execution_count": null,
   "metadata": {
    "colab": {
     "base_uri": "https://localhost:8080/"
    },
    "id": "o2PnoLR9PHGp",
    "outputId": "25c6d6b5-0592-4d98-8604-bfdb110668ec"
   },
   "outputs": [
    {
     "name": "stdout",
     "output_type": "stream",
     "text": [
      "dict_keys(['Kiraz', 'Vişne', 'Kivi'])\n"
     ]
    }
   ],
   "source": [
    "meyve_isimleri = manav.keys()    #fiyatları depolayabilirim.\n",
    "\n",
    "print(meyve_isimleri)"
   ]
  },
  {
   "cell_type": "code",
   "execution_count": null,
   "metadata": {
    "colab": {
     "base_uri": "https://localhost:8080/"
    },
    "id": "sZHTDHrgPVht",
    "outputId": "6c01ecdb-2049-47da-8c5a-52a80bad2404"
   },
   "outputs": [
    {
     "name": "stdout",
     "output_type": "stream",
     "text": [
      "[25, 55, 250]\n"
     ]
    }
   ],
   "source": [
    "meyve_fiyatları = list(manav.values())    #listeye çevirerek fiyatları depolayabilirim.\n",
    "\n",
    "print(meyve_fiyatları)"
   ]
  },
  {
   "cell_type": "code",
   "execution_count": null,
   "metadata": {
    "colab": {
     "base_uri": "https://localhost:8080/"
    },
    "id": "_fgwVTf9Px2f",
    "outputId": "b922c5be-1682-40bb-c495-8c66a836f131"
   },
   "outputs": [
    {
     "name": "stdout",
     "output_type": "stream",
     "text": [
      "Manavda bulunan Meyve sayısı : 3\n",
      "Manavda bulunan Meyvelerin birim fiyat toplamı : 330\n"
     ]
    }
   ],
   "source": [
    "print(f'Manavda bulunan Meyve sayısı : {len(meyve_isimleri)}')\n",
    "print(f'Manavda bulunan Meyvelerin birim fiyat toplamı : {sum(meyve_fiyatları)}')"
   ]
  },
  {
   "cell_type": "code",
   "execution_count": null,
   "metadata": {
    "colab": {
     "base_uri": "https://localhost:8080/"
    },
    "id": "pQkrKziAQLHd",
    "outputId": "92445d2f-bad3-4f46-f216-2c3d6bdf77c7"
   },
   "outputs": [
    {
     "name": "stdout",
     "output_type": "stream",
     "text": [
      "Kiraz : [25, 55, 250]\n",
      "Vişne : [25, 55, 250]\n",
      "Kivi : [25, 55, 250]\n"
     ]
    }
   ],
   "source": [
    "for meyve_adi,meyve_fiyati in manav.items():\n",
    "  print(f\"{meyve_adi} : {meyve_fiyatları}\")"
   ]
  },
  {
   "cell_type": "code",
   "execution_count": null,
   "metadata": {
    "colab": {
     "base_uri": "https://localhost:8080/"
    },
    "id": "B-iEaxccQWwM",
    "outputId": "32cd56f3-6ce1-4825-84a4-c4ba030bfc5c"
   },
   "outputs": [
    {
     "name": "stdout",
     "output_type": "stream",
     "text": [
      "{'Kiraz': 25, 'Vişne': 55, 'Kivi': 250, 'Kayısı': 300, 'Portakal': 45}\n"
     ]
    }
   ],
   "source": [
    "manav.update({'Kayısı': 300, 'Portakal': 45})\n",
    "\n",
    "print(manav)"
   ]
  },
  {
   "cell_type": "code",
   "execution_count": null,
   "metadata": {
    "colab": {
     "base_uri": "https://localhost:8080/"
    },
    "id": "BKjPWPBWQ77s",
    "outputId": "7cc378aa-88d9-4930-e28b-f7654114afd7"
   },
   "outputs": [
    {
     "name": "stdout",
     "output_type": "stream",
     "text": [
      "45\n",
      "{'Kiraz': 45, 'Vişne': 55, 'Kivi': 250, 'Kayısı': 300, 'Portakal': 45, 'kiraz': 45}\n"
     ]
    }
   ],
   "source": [
    "manav.update({\"Kiraz\":45})\n",
    "\n",
    "print(manav.get(\"Kiraz\"))\n",
    "print(manav)"
   ]
  },
  {
   "cell_type": "code",
   "execution_count": null,
   "metadata": {
    "colab": {
     "base_uri": "https://localhost:8080/"
    },
    "id": "FbWHYkpIRKN2",
    "outputId": "536a941b-1d47-453a-f566-0eb3ac42ce69"
   },
   "outputs": [
    {
     "name": "stdout",
     "output_type": "stream",
     "text": [
      "Silinen meyvenin fiyatı:  45\n",
      "{'Kiraz': 45, 'Kivi': 250, 'Kayısı': 300, 'kiraz': 45}\n"
     ]
    }
   ],
   "source": [
    "silinen_meyve_fiyati = manav.pop(\"Portakal\")\n",
    "\n",
    "print(\"Silinen meyvenin fiyatı: \", silinen_meyve_fiyati)\n",
    "print(manav)"
   ]
  },
  {
   "cell_type": "code",
   "execution_count": null,
   "metadata": {
    "colab": {
     "base_uri": "https://localhost:8080/"
    },
    "id": "1xZ-yPJcRmmF",
    "outputId": "b346cd8e-56bc-4d9b-cb55-d9853591cd8c"
   },
   "outputs": [
    {
     "name": "stdout",
     "output_type": "stream",
     "text": [
      "Ne duruyorsun helva yapsana\n"
     ]
    }
   ],
   "source": [
    "bakkal = {'un': 1, 'Şeker': 2, 'Yağ': 3}\n",
    "\n",
    "if 'un' in bakkal and 'Şeker' in bakkal and 'Yağ' in bakkal:\n",
    "    print('Ne duruyorsun helva yapsana')"
   ]
  },
  {
   "cell_type": "code",
   "execution_count": null,
   "metadata": {
    "colab": {
     "base_uri": "https://localhost:8080/"
    },
    "id": "0mH5Uo-wSPJU",
    "outputId": "5216edf8-df6d-4bb4-8a29-fe2c0ba8ec69"
   },
   "outputs": [
    {
     "name": "stdout",
     "output_type": "stream",
     "text": [
      "[1, 2, 3, 4, 5, 6, 7, 8, 9, 10]\n"
     ]
    }
   ],
   "source": [
    "# 1 den 10 a kadar tüm sayıları listeye ekleyen ve bu listeyi ekran çıktısı olarak veren kodu yazınız.\n",
    "\n",
    "X = []\n",
    "\n",
    "for i in range(1, 11):\n",
    "  X.append(i)\n",
    "\n",
    "print(X)"
   ]
  },
  {
   "cell_type": "code",
   "execution_count": null,
   "metadata": {
    "colab": {
     "base_uri": "https://localhost:8080/"
    },
    "id": "_ZQaUFiDTEgE",
    "outputId": "9db14c70-e929-4da1-ba89-344017061827"
   },
   "outputs": [
    {
     "name": "stdout",
     "output_type": "stream",
     "text": [
      "[1, 2, 3, 4, 5, 6, 7, 8, 9, 10]\n"
     ]
    }
   ],
   "source": [
    "#2. yöntem\n",
    "\n",
    "numbers = [i for i in range(1,11)]\n",
    "\n",
    "print(numbers)"
   ]
  },
  {
   "cell_type": "code",
   "execution_count": null,
   "metadata": {
    "colab": {
     "base_uri": "https://localhost:8080/"
    },
    "id": "UMN3ihIPTSHt",
    "outputId": "23959f97-d8df-48ed-e58f-bdf745c0d6f8"
   },
   "outputs": [
    {
     "name": "stdout",
     "output_type": "stream",
     "text": [
      "[2, 4, 6, 8, 10, 12, 14, 16, 18, 20, 22, 24, 26, 28, 30, 32, 34, 36, 38, 40, 42, 44, 46, 48, 50]\n"
     ]
    }
   ],
   "source": [
    "#1 den 50 ye kadar tüm çift sayıları ayrı listede tutan ve bu listeyi ekran çıktısı olarak gösteren kodu yaz.\n",
    "\n",
    "Y = []\n",
    "even_numbers = []\n",
    "for i in range(1, 51):\n",
    "  Y.append(i)\n",
    "\n",
    "for num in Y:\n",
    "  if num %2 == 0:\n",
    "    even_numbers.append(num)\n",
    "\n",
    "print(even_numbers)"
   ]
  },
  {
   "cell_type": "code",
   "execution_count": null,
   "metadata": {
    "colab": {
     "base_uri": "https://localhost:8080/"
    },
    "id": "Tv1vthZSUDki",
    "outputId": "278b66a2-4f48-49bc-8cab-28fcb7d5f876"
   },
   "outputs": [
    {
     "name": "stdout",
     "output_type": "stream",
     "text": [
      "[2, 4, 6, 8, 10, 12, 14, 16, 18, 20, 22, 24, 26, 28, 30, 32, 34, 36, 38, 40, 42, 44, 46, 48, 50]\n"
     ]
    }
   ],
   "source": [
    "even_numbers_lst = [i for i in range(1, 51) if i % 2 == 0]    #list comprehension yöntemiyle çözüm\n",
    "\n",
    "print(even_numbers_lst)"
   ]
  },
  {
   "cell_type": "code",
   "execution_count": null,
   "metadata": {
    "colab": {
     "base_uri": "https://localhost:8080/"
    },
    "id": "icix6gPzUWMZ",
    "outputId": "b28a38da-8204-4238-f8d7-9cae385019a6"
   },
   "outputs": [
    {
     "name": "stdout",
     "output_type": "stream",
     "text": [
      "[1, 8, 27, 64, 125, 216, 343, 512, 729, 1000]\n"
     ]
    }
   ],
   "source": [
    "#1 den 10 a kadar tüm sayıların küpünü bir liste içerisinde tutan ve ekran çıktısı olarak veren kodu yazınız.\n",
    "\n",
    "kup = list()\n",
    "\n",
    "for i in range(1,11):\n",
    "  kup.append(i**3)\n",
    "\n",
    "print(kup)"
   ]
  },
  {
   "cell_type": "code",
   "execution_count": null,
   "metadata": {
    "colab": {
     "base_uri": "https://localhost:8080/"
    },
    "id": "rtXuiE8mUpsz",
    "outputId": "97f07bef-e0a3-465a-e658-74688ecc2f80"
   },
   "outputs": [
    {
     "name": "stdout",
     "output_type": "stream",
     "text": [
      "[1, 8, 27, 64, 125, 216, 343, 512, 729, 1000]\n"
     ]
    }
   ],
   "source": [
    "kup_list = [i**3 for i in range(1, 11)]   #list comprehension yöntemiyle çözüm\n",
    "\n",
    "print(kup_list)"
   ]
  },
  {
   "cell_type": "code",
   "execution_count": null,
   "metadata": {
    "colab": {
     "base_uri": "https://localhost:8080/"
    },
    "id": "MvrF9AbIVGzq",
    "outputId": "2428fe53-61a4-4cc0-ba80-3831e51b050a"
   },
   "outputs": [
    {
     "name": "stdout",
     "output_type": "stream",
     "text": [
      "['G', 'ö', 'z', 'y', 'a', 's', 'ı', 'n', 'ı', ' ', 'S', 'i', 'l', 'd', 'i', 'ğ', 'i', 'n', ' ', 'm', 'e', 'n', 'd', 'i', 'l', 'i', 'n', ' ', 'o', 'l', 'a', 'y', 'ı', 'm', '.']\n"
     ]
    }
   ],
   "source": [
    "#bir metin içindeki tüm harfleri ayrı liste içinde tutan kodu yazınız.\n",
    "\n",
    "Text = 'Gözyasını Sildiğin mendilin olayım.'\n",
    "harfler_lst = list()\n",
    "\n",
    "#geleneksel yöntem\n",
    "for char in Text:\n",
    "  harfler_lst.append(char)\n",
    "\n",
    "print(harfler_lst)"
   ]
  },
  {
   "cell_type": "code",
   "execution_count": null,
   "metadata": {
    "colab": {
     "base_uri": "https://localhost:8080/"
    },
    "id": "8Q37rLSyVj0v",
    "outputId": "250a7b19-6eb9-4596-b4ff-0669286d5552"
   },
   "outputs": [
    {
     "name": "stdout",
     "output_type": "stream",
     "text": [
      "['G', 'ö', 'z', 'y', 'a', 's', 'ı', 'n', 'ı', ' ', 'S', 'i', 'l', 'd', 'i', 'ğ', 'i', 'n', ' ', 'm', 'e', 'n', 'd', 'i', 'l', 'i', 'n', ' ', 'o', 'l', 'a', 'y', 'ı', 'm', '.']\n"
     ]
    }
   ],
   "source": [
    "print(list(Text))   #list comprehension yöntemi"
   ]
  },
  {
   "cell_type": "code",
   "execution_count": null,
   "metadata": {
    "colab": {
     "base_uri": "https://localhost:8080/"
    },
    "id": "Pg2d0tfiVuyT",
    "outputId": "4224cd09-a0c1-4be0-cb97-0644e55e44b9"
   },
   "outputs": [
    {
     "name": "stdout",
     "output_type": "stream",
     "text": [
      "['G', 'ö', 'z', 'y', 'a', 's', 'ı', 'n', 'ı', ' ', 'S', 'i', 'l', 'd', 'i', 'ğ', 'i', 'n', ' ', 'm', 'e', 'n', 'd', 'i', 'l', 'i', 'n', ' ', 'o', 'l', 'a', 'y', 'ı', 'm', '.']\n"
     ]
    }
   ],
   "source": [
    "harfler_lst2 = [char for char in Text]\n",
    "\n",
    "print(harfler_lst2)"
   ]
  },
  {
   "cell_type": "code",
   "execution_count": null,
   "metadata": {
    "colab": {
     "base_uri": "https://localhost:8080/"
    },
    "id": "jK62XCURWD9e",
    "outputId": "0ca7fc06-03e3-4658-f1f4-cc4102cd29c0"
   },
   "outputs": [
    {
     "name": "stdout",
     "output_type": "stream",
     "text": [
      "['tek: 1', 'çift: 2', 'tek: 3', 'çift: 4', 'tek: 5', 'çift: 6', 'tek: 7', 'çift: 8', 'tek: 9', 'çift: 10', 'tek: 11', 'çift: 12', 'tek: 13', 'çift: 14', 'tek: 15', 'çift: 16', 'tek: 17', 'çift: 18', 'tek: 19', 'çift: 20', 'tek: 21', 'çift: 22', 'tek: 23', 'çift: 24', 'tek: 25']\n"
     ]
    }
   ],
   "source": [
    "#1 den  25 e kdar tüm sayıları gezen ve bir liste içinde hangi sayının tek mi çift mi olduğunun metnini tutan, metinler gösteren, metinler listesi oluşturun.\n",
    "\n",
    "# ['Tek: 1', 'Çift: 2', 'Tek: 3']\n",
    "\n",
    "result =list()\n",
    "for i in range(1,26):\n",
    "  if i %2 == 0:\n",
    "    result.append(f\"çift: {i}\")\n",
    "  else:\n",
    "    result.append(f\"tek: {i}\")\n",
    "\n",
    "print(result)"
   ]
  },
  {
   "cell_type": "code",
   "execution_count": null,
   "metadata": {
    "colab": {
     "base_uri": "https://localhost:8080/"
    },
    "id": "7g-2ySCAXGyk",
    "outputId": "7dd99dea-758f-4c8e-ad94-513c28d650c9"
   },
   "outputs": [
    {
     "name": "stdout",
     "output_type": "stream",
     "text": [
      "['tek: 1', 'çift: 2', 'tek: 3', 'çift: 4', 'tek: 5', 'çift: 6', 'tek: 7', 'çift: 8', 'tek: 9', 'çift: 10', 'tek: 11', 'çift: 12', 'tek: 13', 'çift: 14', 'tek: 15', 'çift: 16', 'tek: 17', 'çift: 18', 'tek: 19', 'çift: 20', 'tek: 21', 'çift: 22', 'tek: 23', 'çift: 24', 'tek: 25']\n"
     ]
    }
   ],
   "source": [
    "result1 = [f\"çift: {i}\" if i %2 == 0 else f\"tek: {i}\" for i in range(1,26)]\n",
    "\n",
    "print(result1)"
   ]
  }
 ],
 "metadata": {
  "colab": {
   "provenance": []
  },
  "kernelspec": {
   "display_name": "Python [conda env:base] *",
   "language": "python",
   "name": "conda-base-py"
  },
  "language_info": {
   "codemirror_mode": {
    "name": "ipython",
    "version": 3
   },
   "file_extension": ".py",
   "mimetype": "text/x-python",
   "name": "python",
   "nbconvert_exporter": "python",
   "pygments_lexer": "ipython3",
   "version": "3.12.7"
  }
 },
 "nbformat": 4,
 "nbformat_minor": 4
}
