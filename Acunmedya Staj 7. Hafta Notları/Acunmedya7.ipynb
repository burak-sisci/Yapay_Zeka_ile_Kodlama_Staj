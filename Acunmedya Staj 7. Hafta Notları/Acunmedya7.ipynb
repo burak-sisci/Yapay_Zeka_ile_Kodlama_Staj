{
 "cells": [
  {
   "cell_type": "code",
   "execution_count": 2,
   "metadata": {
    "colab": {
     "base_uri": "https://localhost:8080/"
    },
    "id": "h-Lmn7CoijeW",
    "outputId": "f7762d68-af8d-4fd7-b699-e0afbcbee0e7"
   },
   "outputs": [
    {
     "name": "stdout",
     "output_type": "stream",
     "text": [
      "isim: Mehmet, vucüt kitle indeksiniz: 23.671253629592222\n"
     ]
    }
   ],
   "source": [
    "#vücut kitle endeksi hesaplama\n",
    "# kilo/(boy**2)\n",
    "\n",
    "isim = \"Mehmet\"\n",
    "boy = 1.78\n",
    "kilo = 75\n",
    "\n",
    "vki = kilo / (boy**2)\n",
    "\n",
    "print(f\"isim: {isim}, vucüt kitle indeksiniz: {vki}\")"
   ]
  },
  {
   "cell_type": "code",
   "execution_count": 3,
   "metadata": {
    "colab": {
     "base_uri": "https://localhost:8080/"
    },
    "id": "F7McKWedi0KV",
    "outputId": "64985849-5358-472e-f614-7835a8348856"
   },
   "outputs": [
    {
     "name": "stdout",
     "output_type": "stream",
     "text": [
      "isim: Ömer, vucüt kitle indeksiniz: 21.736505252988767\n"
     ]
    }
   ],
   "source": [
    "#vücut kitle endeksi hesaplama\n",
    "# kilo/(boy**2)\n",
    "\n",
    "isim = \"Ömer\"\n",
    "boy = 1.82\n",
    "kilo = 72\n",
    "\n",
    "vki = kilo / (boy**2)\n",
    "\n",
    "print(f\"isim: {isim}, vucüt kitle indeksiniz: {vki}\")"
   ]
  },
  {
   "cell_type": "code",
   "execution_count": 7,
   "metadata": {
    "id": "NEM2DyzRjouO"
   },
   "outputs": [],
   "source": [
    "#kendini tekrar etmemeli"
   ]
  },
  {
   "cell_type": "code",
   "execution_count": 10,
   "metadata": {
    "id": "rS9lnSiklTlY"
   },
   "outputs": [],
   "source": [
    "#parametre alan bir fonksiyon örneği\n",
    "def say_hello_with_name(name):\n",
    "  print(f\"Merhaba {name}\")\n",
    "\n",
    "# parametre tanımlanmışsa girilmek zorunda"
   ]
  },
  {
   "cell_type": "code",
   "execution_count": 9,
   "metadata": {
    "colab": {
     "base_uri": "https://localhost:8080/"
    },
    "id": "cq8Uc4kblxHH",
    "outputId": "972f5f15-cb27-4d72-b86e-ee30c8859cad"
   },
   "outputs": [
    {
     "name": "stdout",
     "output_type": "stream",
     "text": [
      "Merhaba Buse\n",
      "Merhaba Burak\n"
     ]
    }
   ],
   "source": [
    "say_hello_with_name(\"Buse\")\n",
    "say_hello_with_name(\"Burak\")"
   ]
  },
  {
   "cell_type": "code",
   "execution_count": 11,
   "metadata": {
    "colab": {
     "base_uri": "https://localhost:8080/"
    },
    "id": "V8uOfA6yl1u-",
    "outputId": "bbd3297d-699a-4d50-b18f-68a5bb6ceb20"
   },
   "outputs": [
    {
     "name": "stdout",
     "output_type": "stream",
     "text": [
      "ad: Burak, soyad: Şişçi, şifre: Yeğen telefon çalıyor.\n"
     ]
    }
   ],
   "source": [
    "def info(ad,soyad,password):\n",
    "  print(f\"ad: {ad}, soyad: {soyad}, şifre: {password}\")\n",
    "\n",
    "info('Burak', 'Şişçi', 'Yeğen telefon çalıyor.')"
   ]
  },
  {
   "cell_type": "code",
   "execution_count": 12,
   "metadata": {
    "colab": {
     "base_uri": "https://localhost:8080/"
    },
    "id": "fgqUbJG_m3lI",
    "outputId": "212ee618-cddc-4d80-f7f8-66e838d021ea"
   },
   "outputs": [
    {
     "name": "stdout",
     "output_type": "stream",
     "text": [
      "ad: Yiğit, soyad: Password123, şifre: Keskin\n"
     ]
    }
   ],
   "source": [
    "info('Yiğit', 'Password123', 'Keskin')"
   ]
  },
  {
   "cell_type": "code",
   "execution_count": 15,
   "metadata": {
    "colab": {
     "base_uri": "https://localhost:8080/"
    },
    "id": "7TMaMNS7nIMP",
    "outputId": "0f424693-f482-4a5d-d909-23350e60c385"
   },
   "outputs": [
    {
     "name": "stdout",
     "output_type": "stream",
     "text": [
      "ad: Yiğit, soyad: Keskin, şifre: Password123\n"
     ]
    }
   ],
   "source": [
    "#değerleri karışık girmek istiyorum:\n",
    "info(ad='Yiğit',password='Password123',soyad='Keskin')"
   ]
  },
  {
   "cell_type": "code",
   "execution_count": 20,
   "metadata": {
    "id": "hyJeqrwynZgP"
   },
   "outputs": [],
   "source": [
    "#Öğrenci girmiş olduğu dersin adı ve almış olduğu notları girsin.\n",
    "# Bu bilgiler neticesinde hangi dersten ne kadar ortalamaya sahip olduğunu ekrana çıktısı şeklinde görsün.\n",
    "\n",
    "def ders_info(ders_adi,not1,not2,not3):\n",
    "  ders_not_toplami = not1+not2+not3\n",
    "  avg = ders_not_toplami/3\n",
    "  print(f\"ders: {ders_adi}, not ortalaması: {avg}\")"
   ]
  },
  {
   "cell_type": "code",
   "execution_count": 21,
   "metadata": {
    "colab": {
     "base_uri": "https://localhost:8080/"
    },
    "id": "UYrSHHzTpwy6",
    "outputId": "078d52bd-e382-4960-8440-7b51e67f1354"
   },
   "outputs": [
    {
     "name": "stdout",
     "output_type": "stream",
     "text": [
      "ders: Kimya, not ortalaması: 83.33333333333333\n"
     ]
    }
   ],
   "source": [
    "ders_info('Kimya', 65, 85, 100)"
   ]
  },
  {
   "cell_type": "code",
   "execution_count": 23,
   "metadata": {
    "id": "y2kiI9z3p3Ql"
   },
   "outputs": [],
   "source": [
    "# potansiyel enerjiyi hesaplayan ve ekran çıktısı olarak veren fonksiyonu yazınız.\n",
    "# P = (kütle) * g (Yer çekimini ivmesi) * h (Yerden yükseklik)\n",
    "\n",
    "# g = 10 m/s^2 olarak alınır\n",
    "# g = 9.8 m/s^2"
   ]
  },
  {
   "cell_type": "code",
   "execution_count": 24,
   "metadata": {
    "id": "67mFTxHlqKym"
   },
   "outputs": [],
   "source": [
    "def potansiyel_enerji(m,g,h=10): #h parametresini default olarak (10) belirledim.\n",
    "  result= m*g*h\n",
    "  print(f\"cismin potansiyel enerjisi: {result}\")"
   ]
  },
  {
   "cell_type": "code",
   "execution_count": 25,
   "metadata": {
    "colab": {
     "base_uri": "https://localhost:8080/"
    },
    "id": "sPGBamy5q7pi",
    "outputId": "3aa87c44-8fd8-4631-cc79-b8772b545d51"
   },
   "outputs": [
    {
     "name": "stdout",
     "output_type": "stream",
     "text": [
      "cismin potansiyel enerjisi: 500\n"
     ]
    }
   ],
   "source": [
    "potansiyel_enerji(5,10)"
   ]
  },
  {
   "cell_type": "code",
   "execution_count": 27,
   "metadata": {
    "colab": {
     "base_uri": "https://localhost:8080/"
    },
    "id": "i5q57pHYq9rG",
    "outputId": "5964cbef-1e03-4b4f-c8d3-db916c7c104a"
   },
   "outputs": [
    {
     "name": "stdout",
     "output_type": "stream",
     "text": [
      "cismin potansiyel enerjisi: 490.00000000000006\n"
     ]
    }
   ],
   "source": [
    "potansiyel_enerji(5,10,9.8)\n",
    "#default değeri kendi isteğimle değiştirebilirim. istenirse yeni parametre girişi yapılabilir."
   ]
  },
  {
   "cell_type": "code",
   "execution_count": 28,
   "metadata": {
    "id": "DWZfOTgRrJ4d"
   },
   "outputs": [],
   "source": [
    "#default değer girişi olmayan parametreleri kesinlikle doldurmam gerekiyor."
   ]
  },
  {
   "cell_type": "code",
   "execution_count": 31,
   "metadata": {
    "id": "ERbcBE7Crb1c"
   },
   "outputs": [],
   "source": [
    "#parametre almayan ve değer döndürmeyen bir fonksiyon yazalım.\n",
    "def vki_hesapla():\n",
    "  name = input('Lütfen isminizi giriniz : ')\n",
    "  kilo = float(input('Lütfen Kilonuzu giriniz: '))\n",
    "  boy = float(input(\"Lütfen boyunuzu giriniz: \"))\n",
    "\n",
    "  vki = kilo / (boy**2)\n",
    "\n",
    "  print(f\"isim: {name}, vki: {vki}\")"
   ]
  },
  {
   "cell_type": "code",
   "execution_count": 33,
   "metadata": {
    "colab": {
     "base_uri": "https://localhost:8080/"
    },
    "id": "llu9heYisev1",
    "outputId": "3ccbb6be-b0a9-479c-bca2-595f6b0f9e64"
   },
   "outputs": [
    {
     "name": "stdout",
     "output_type": "stream",
     "text": [
      "Lütfen isminizi giriniz : Buse\n",
      "Lütfen Kilonuzu giriniz: 54\n",
      "Lütfen boyunuzu giriniz: 1.65\n",
      "isim: Buse, vki: 19.834710743801654\n"
     ]
    }
   ],
   "source": [
    "vki_hesapla()"
   ]
  },
  {
   "cell_type": "code",
   "execution_count": 34,
   "metadata": {
    "id": "mXxh8FE2sy61"
   },
   "outputs": [],
   "source": [
    "#değer üreten fonksiyonlar.\n",
    "#parametreli veya parametresiz olabilir."
   ]
  },
  {
   "cell_type": "code",
   "execution_count": 36,
   "metadata": {
    "colab": {
     "base_uri": "https://localhost:8080/"
    },
    "id": "yVlNJb9HtIt_",
    "outputId": "217620d4-f37f-45ea-879d-89b6d4890326"
   },
   "outputs": [
    {
     "name": "stdout",
     "output_type": "stream",
     "text": [
      "cismin potansiyel enerjisi: 500\n",
      "None\n"
     ]
    }
   ],
   "source": [
    "result = potansiyel_enerji(5,10)\n",
    "print(result)"
   ]
  },
  {
   "cell_type": "code",
   "execution_count": 39,
   "metadata": {
    "id": "wJ1LOxTZtVe2"
   },
   "outputs": [],
   "source": [
    "def topla(sayi1,sayi2):\n",
    "  sonuc = sayi1 + sayi2\n",
    "  return sayi1 + sayi2"
   ]
  },
  {
   "cell_type": "code",
   "execution_count": 42,
   "metadata": {
    "colab": {
     "base_uri": "https://localhost:8080/"
    },
    "id": "Pf_xizJUtvMS",
    "outputId": "53cb62a9-43d5-4b8e-be8a-497086f008f0"
   },
   "outputs": [
    {
     "name": "stdout",
     "output_type": "stream",
     "text": [
      "toplama işleminin sonucu: 66\n"
     ]
    }
   ],
   "source": [
    "sonuc = topla(25,41)\n",
    "print(f\"toplama işleminin sonucu: {sonuc}\")"
   ]
  },
  {
   "cell_type": "code",
   "execution_count": 43,
   "metadata": {
    "id": "pvz548cGt0MO"
   },
   "outputs": [],
   "source": [
    "#değer döndüren fonksiyonlar"
   ]
  },
  {
   "cell_type": "code",
   "execution_count": 45,
   "metadata": {
    "id": "Kdi6UFkfyYQj"
   },
   "outputs": [],
   "source": [
    "# Dairenin çevresi : 2 * π * r (Yarıçap)\n",
    "# Dairenin Alanı : π * r**2\n",
    "\n",
    "import math   #gerekli kütüphaneyi dahil ettim.\n",
    "\n",
    "def daire_cevre(r):\n",
    "    pi = math.pi\n",
    "    return pi * 2 * r\n",
    "\n",
    "def daire_alan(r):\n",
    "    pi = math.pi\n",
    "    return pi * r * r"
   ]
  },
  {
   "cell_type": "code",
   "execution_count": 46,
   "metadata": {
    "colab": {
     "base_uri": "https://localhost:8080/"
    },
    "id": "px4XGRMH1TiF",
    "outputId": "ac72fe27-4d16-46ef-a2ad-52fb0084c2be"
   },
   "outputs": [
    {
     "name": "stdout",
     "output_type": "stream",
     "text": [
      "62.83185307179586\n",
      "314.1592653589793\n"
     ]
    }
   ],
   "source": [
    "cevre = daire_cevre(10)\n",
    "alan = daire_alan(10)\n",
    "\n",
    "print(cevre)\n",
    "print(alan)"
   ]
  },
  {
   "cell_type": "code",
   "execution_count": 50,
   "metadata": {
    "id": "91mxaExK1cJO"
   },
   "outputs": [],
   "source": [
    "# Dairenin yarıçapını aldıktan sonra alan ve çevresini ekran çıktısı olarak gösteren kodu yazınız.\n",
    "\n",
    "def daire_islemleri(r):\n",
    "    pi = math.pi\n",
    "    cevre = pi * 2 * r\n",
    "    alan = pi * r * r\n",
    "\n",
    "    print(f\"\"\"yarıçapı {r} olan dairenin;\n",
    "     çevresi: {cevre}cm\n",
    "     alanı: {alan}cm^2\"\"\")"
   ]
  },
  {
   "cell_type": "code",
   "execution_count": 52,
   "metadata": {
    "colab": {
     "base_uri": "https://localhost:8080/"
    },
    "id": "RPyTGy-P10r-",
    "outputId": "f4f02194-cd41-43a5-9536-bd462e86f8de"
   },
   "outputs": [
    {
     "name": "stdout",
     "output_type": "stream",
     "text": [
      "yarıçapı 15 olan dairenin;\n",
      "     çevresi: 94.24777960769379cm \n",
      "     alanı: 706.8583470577034cm^2\n"
     ]
    }
   ],
   "source": [
    "daire_islemleri(15)"
   ]
  },
  {
   "cell_type": "code",
   "execution_count": 55,
   "metadata": {
    "colab": {
     "base_uri": "https://localhost:8080/"
    },
    "id": "R2ZZyREh16m-",
    "outputId": "d3f027e0-1e48-4ede-e661-05cdecd1d2f6"
   },
   "outputs": [
    {
     "name": "stdout",
     "output_type": "stream",
     "text": [
      "62.83185307179586\n",
      "314.1592653589793\n"
     ]
    }
   ],
   "source": [
    "cevre = daire_cevre(10)\n",
    "alan = daire_alan(10)\n",
    "\n",
    "print(cevre)\n",
    "print(alan)"
   ]
  },
  {
   "cell_type": "code",
   "execution_count": 60,
   "metadata": {
    "id": "1uPQQHez3Kdh"
   },
   "outputs": [],
   "source": [
    "# Dairenin yarıçapını aldıktan sonra alan ve çevresini ekran çıktısı olarak gösteren kodu yazalım.\n",
    "\n",
    "def daire_islemleri(r):\n",
    "    cevre = daire_cevre(r)\n",
    "    alan = daire_alan(r)\n",
    "\n",
    "    daire_bilgi_goster(r, cevre, alan)"
   ]
  },
  {
   "cell_type": "code",
   "execution_count": 61,
   "metadata": {
    "id": "nJ9jUHO43Z36"
   },
   "outputs": [],
   "source": [
    "# Parametre olarak 3 tane argüman alan (sayısal veriler) ve bu sayılarla toplam, çarpım ve ortalamasını\n",
    "# değer olarak üreten fonksiyon tanımlayınız.\n",
    "\n",
    "def toplam_carpim_ortalama(sayi1,sayi2,sayi3):\n",
    "  toplam = sayi1 + sayi2 + sayi3\n",
    "  avg = toplam / 3\n",
    "  carpim = sayi1 * sayi2 * sayi3\n",
    "\n",
    "  return toplam,avg,carpim"
   ]
  },
  {
   "cell_type": "code",
   "execution_count": 64,
   "metadata": {
    "colab": {
     "base_uri": "https://localhost:8080/"
    },
    "id": "ysVW8AY-4htF",
    "outputId": "8c1d75d8-c2ca-45fe-9860-25067c61c543"
   },
   "outputs": [
    {
     "name": "stdout",
     "output_type": "stream",
     "text": [
      "(60, 20.0, 6000)\n"
     ]
    }
   ],
   "source": [
    "result = toplam_carpim_ortalama(10,20,30)\n",
    "print(result)"
   ]
  },
  {
   "cell_type": "code",
   "execution_count": 67,
   "metadata": {
    "colab": {
     "base_uri": "https://localhost:8080/"
    },
    "id": "scjzR_lW4lYJ",
    "outputId": "e3d669df-b186-48ca-d981-466fb3e8d064"
   },
   "outputs": [
    {
     "name": "stdout",
     "output_type": "stream",
     "text": [
      "10,20,30 sayılarının toplamı: 60\n",
      "10,20,30 sayılarının çarpımı: 6000\n",
      "10,20,30 sayılarının ortalması: 20.0\n"
     ]
    }
   ],
   "source": [
    "toplam_sonuc,avg_sonuc,carpim_sonuc = toplam_carpim_ortalama(10,20,30)\n",
    "print(f\"10,20,30 sayılarının toplamı: {toplam_sonuc}\")\n",
    "print(f\"10,20,30 sayılarının çarpımı: {carpim_sonuc}\")\n",
    "print(f\"10,20,30 sayılarının ortalması: {avg_sonuc}\")"
   ]
  },
  {
   "cell_type": "code",
   "execution_count": 83,
   "metadata": {
    "id": "IwHfk7Rb5Tgg"
   },
   "outputs": [],
   "source": [
    "def toplama(sayi1,sayi2):\n",
    "  return sayi1 + sayi2"
   ]
  },
  {
   "cell_type": "code",
   "execution_count": 84,
   "metadata": {
    "colab": {
     "base_uri": "https://localhost:8080/"
    },
    "id": "-4KlHzlK5hGe",
    "outputId": "2256e80f-ad48-4302-dd1f-df07d694c914"
   },
   "outputs": [
    {
     "name": "stdout",
     "output_type": "stream",
     "text": [
      "50\n"
     ]
    }
   ],
   "source": [
    "print(toplama(20,30))"
   ]
  },
  {
   "cell_type": "code",
   "execution_count": 85,
   "metadata": {
    "id": "A9NREiEe5o1o"
   },
   "outputs": [],
   "source": [
    "# args(*) : Fonksiyon çağrıldığı zaman istenilen kadar parametre girmesini sağlayan yaklaşımdır.\n",
    "\n",
    "def toplama(*sayilar):\n",
    "  total = 0\n",
    "  for sayi in sayilar:\n",
    "    total += sayi\n",
    "\n",
    "  return total"
   ]
  },
  {
   "cell_type": "code",
   "execution_count": 86,
   "metadata": {
    "colab": {
     "base_uri": "https://localhost:8080/"
    },
    "id": "FX7bX95857kM",
    "outputId": "c907a617-cd2c-4abd-be23-13b23222c9ad"
   },
   "outputs": [
    {
     "name": "stdout",
     "output_type": "stream",
     "text": [
      "150\n"
     ]
    }
   ],
   "source": [
    "print(toplama(10, 20, 30, 40, 50))"
   ]
  },
  {
   "cell_type": "code",
   "execution_count": 87,
   "metadata": {
    "colab": {
     "base_uri": "https://localhost:8080/"
    },
    "id": "-wKBG7Og6eet",
    "outputId": "5fbf6c76-569a-40fd-ad71-6ff26b01b18c"
   },
   "outputs": [
    {
     "name": "stdout",
     "output_type": "stream",
     "text": [
      "150\n"
     ]
    }
   ],
   "source": [
    "my_list = [10, 20, 30, 40, 50]\n",
    "print(toplama(*my_list))"
   ]
  },
  {
   "cell_type": "code",
   "execution_count": 89,
   "metadata": {
    "id": "m_OUQTYg7RI1"
   },
   "outputs": [],
   "source": [
    "# **kwargs\n",
    "def info_ver(**kwargs):\n",
    "  for key, value in kwargs.items():\n",
    "    print(f\"{key} - {value}\")"
   ]
  },
  {
   "cell_type": "code",
   "execution_count": 93,
   "metadata": {
    "colab": {
     "base_uri": "https://localhost:8080/"
    },
    "id": "IIxICFbG7weO",
    "outputId": "af9c548b-0a56-4b78-89a8-53ed76483908"
   },
   "outputs": [
    {
     "name": "stdout",
     "output_type": "stream",
     "text": [
      "ad - Ömer\n",
      "Soyad - Doğan\n"
     ]
    }
   ],
   "source": [
    "sozluk = {'ad': 'Ömer', 'Soyad': 'Doğan'}\n",
    "info_ver(**sozluk)"
   ]
  }
 ],
 "metadata": {
  "colab": {
   "provenance": []
  },
  "kernelspec": {
   "display_name": "Python [conda env:base] *",
   "language": "python",
   "name": "conda-base-py"
  },
  "language_info": {
   "codemirror_mode": {
    "name": "ipython",
    "version": 3
   },
   "file_extension": ".py",
   "mimetype": "text/x-python",
   "name": "python",
   "nbconvert_exporter": "python",
   "pygments_lexer": "ipython3",
   "version": "3.12.7"
  }
 },
 "nbformat": 4,
 "nbformat_minor": 4
}
