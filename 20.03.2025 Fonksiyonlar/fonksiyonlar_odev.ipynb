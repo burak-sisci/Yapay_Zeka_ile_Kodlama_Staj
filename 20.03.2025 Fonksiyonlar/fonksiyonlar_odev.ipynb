{
  "nbformat": 4,
  "nbformat_minor": 0,
  "metadata": {
    "colab": {
      "provenance": []
    },
    "kernelspec": {
      "name": "python3",
      "display_name": "Python 3"
    },
    "language_info": {
      "name": "python"
    }
  },
  "cells": [
    {
      "cell_type": "code",
      "execution_count": 75,
      "metadata": {
        "id": "mK8oBcBOiF70"
      },
      "outputs": [],
      "source": [
        "# \"Merhaba, Python!\" Yazdıran Fonksiyon\n",
        "\n",
        "def mrb_pythn():\n",
        "  print(\"merhaba python. \")"
      ]
    },
    {
      "cell_type": "code",
      "source": [
        "mrb_pythn()"
      ],
      "metadata": {
        "colab": {
          "base_uri": "https://localhost:8080/"
        },
        "id": "WGB6mVOyjBwD",
        "outputId": "4a8598c5-3326-454f-e582-4992927daa07"
      },
      "execution_count": 76,
      "outputs": [
        {
          "output_type": "stream",
          "name": "stdout",
          "text": [
            "merhaba python. \n"
          ]
        }
      ]
    },
    {
      "cell_type": "code",
      "source": [
        "# İsim ve Soyisim Yazdıran Fonksiyon\n",
        "\n",
        "def isim_soyisim():\n",
        "  x = str(input(\"isminizi girin: \"))\n",
        "  y = str(input(\"soyisminizi girin: \"))\n",
        "\n",
        "  sonuc = x + (\" \") + y\n",
        "  print(sonuc)"
      ],
      "metadata": {
        "id": "1RoLJ5COjRIF"
      },
      "execution_count": 77,
      "outputs": []
    },
    {
      "cell_type": "code",
      "source": [
        "isim_soyisim()"
      ],
      "metadata": {
        "colab": {
          "base_uri": "https://localhost:8080/"
        },
        "id": "AsuTAFP2jzYT",
        "outputId": "0aee6657-8947-4e28-da13-3ef1f1454b53"
      },
      "execution_count": 78,
      "outputs": [
        {
          "output_type": "stream",
          "name": "stdout",
          "text": [
            "isminizi girin: Ahmet Burak\n",
            "soyisminizi girin: Şişci\n",
            "Ahmet Burak Şişci\n"
          ]
        }
      ]
    },
    {
      "cell_type": "code",
      "source": [
        "# Listeden Tek Sayıları Bulan Fonksiyon\n",
        "\n",
        "sayilar = [10, 15, 20, 25, 30, 35]    #bu listedeli tek sayıları bulan fonksiyonu yaz.\n",
        "\n",
        "def tek_sayilar():\n",
        "  tek_sayi_listesi = list()\n",
        "\n",
        "  for eleman in sayilar:\n",
        "    if eleman %2 != 0:\n",
        "      tek_sayi_listesi.append(eleman)\n",
        "\n",
        "  return tek_sayi_listesi"
      ],
      "metadata": {
        "id": "BJV1zxkFj2tZ"
      },
      "execution_count": 79,
      "outputs": []
    },
    {
      "cell_type": "code",
      "source": [
        "tek_sayilar()"
      ],
      "metadata": {
        "colab": {
          "base_uri": "https://localhost:8080/"
        },
        "id": "x5r2Sl4ulBs_",
        "outputId": "a217f49d-2b93-4d6a-adcb-f986f9db4be5"
      },
      "execution_count": 80,
      "outputs": [
        {
          "output_type": "execute_result",
          "data": {
            "text/plain": [
              "[15, 25, 35]"
            ]
          },
          "metadata": {},
          "execution_count": 80
        }
      ]
    },
    {
      "cell_type": "code",
      "source": [
        "# Dört İşlem Yapan Fonksiyonlar\n",
        "\n",
        "def topla(sayi1, sayi2):\n",
        "  return sayi1 + sayi2\n",
        "\n",
        "def bolme(sayi1, sayi2):\n",
        "  if sayi2 == 0:\n",
        "    return print(\"bölen sayı sıfır olamaz. \")\n",
        "  return sayi1 / sayi2\n",
        "\n",
        "def carpma(sayi1, sayi2):\n",
        "  return sayi1 * sayi2\n",
        "\n",
        "def cikarma(sayi1, sayi2):\n",
        "  return sayi1 - sayi2\n",
        "\n",
        "def mod(sayi1, sayi2):\n",
        "  if sayi2 == 0:\n",
        "    return print(\"bölen sayı sıfır olamaz. \")\n",
        "  return sayi1 % sayi2\n",
        "\n",
        "\n",
        "def dort_islem(sayi1,sayi2):\n",
        "  print(topla(sayi1, sayi2))\n",
        "  print(bolme(sayi1, sayi2))\n",
        "  print(carpma(sayi1, sayi2))\n",
        "  print(cikarma(sayi1, sayi2))\n",
        "  print(mod(sayi1, sayi2))"
      ],
      "metadata": {
        "id": "MsrAO-jXmTmy"
      },
      "execution_count": 81,
      "outputs": []
    },
    {
      "cell_type": "code",
      "source": [
        "dort_islem(30,0)"
      ],
      "metadata": {
        "colab": {
          "base_uri": "https://localhost:8080/"
        },
        "id": "y21rX_c0nh4C",
        "outputId": "d3c6cadd-2060-4d88-db80-83e16d3b9f93"
      },
      "execution_count": 82,
      "outputs": [
        {
          "output_type": "stream",
          "name": "stdout",
          "text": [
            "30\n",
            "bölen sayı sıfır olamaz. \n",
            "None\n",
            "0\n",
            "30\n",
            "bölen sayı sıfır olamaz. \n",
            "None\n"
          ]
        }
      ]
    },
    {
      "cell_type": "code",
      "source": [
        "# Metin Üzerinde Farklı İşlemler Yapan Fonksiyon\n",
        "\n",
        "def metin_islemleri(metin,islem_tipi):\n",
        "\n",
        "  def metin_islemleri1(metin):\n",
        "    ters_metin = \"\".join(reversed(metin))\n",
        "    return ters_metin\n",
        "\n",
        "  def metin_islemleri2(metin):\n",
        "    buyuk_metin = metin.upper()\n",
        "    return buyuk_metin\n",
        "\n",
        "  def metin_islemleri3(metin):\n",
        "    kucuk_metin = metin.lower()\n",
        "    return kucuk_metin\n",
        "\n",
        "  def metin_islemleri4(metin):\n",
        "    metin_uzunluk = len(metin)\n",
        "    return metin_uzunluk\n",
        "\n",
        "  if islem_tipi == \"ters\":\n",
        "    return metin_islemleri1(metin)\n",
        "\n",
        "  if islem_tipi == \"buyuk\":\n",
        "    return metin_islemleri2(metin)\n",
        "\n",
        "  if islem_tipi == \"kucuk\":\n",
        "    return metin_islemleri3(metin)\n",
        "\n",
        "  if islem_tipi == \"uzunluk\":\n",
        "    return metin_islemleri4(metin)\n",
        "\n",
        "  else:\n",
        "    print(\"geçersiz işlem. \")"
      ],
      "metadata": {
        "id": "9f-nEN3PnpF3"
      },
      "execution_count": 83,
      "outputs": []
    },
    {
      "cell_type": "code",
      "source": [
        "metin_islemleri(\"Ahmet Burak ŞİŞCİ\",\"ters\")"
      ],
      "metadata": {
        "colab": {
          "base_uri": "https://localhost:8080/",
          "height": 35
        },
        "id": "wIaz1wTHjT_2",
        "outputId": "ba5a9aeb-24cf-4ce3-ab57-8f5a6c085248"
      },
      "execution_count": 84,
      "outputs": [
        {
          "output_type": "execute_result",
          "data": {
            "text/plain": [
              "'İCŞİŞ karuB temhA'"
            ],
            "application/vnd.google.colaboratory.intrinsic+json": {
              "type": "string"
            }
          },
          "metadata": {},
          "execution_count": 84
        }
      ]
    },
    {
      "cell_type": "code",
      "source": [
        "metin_islemleri(\"Ahmet Burak ŞİŞCİ\",\"buyuk\")"
      ],
      "metadata": {
        "colab": {
          "base_uri": "https://localhost:8080/",
          "height": 35
        },
        "id": "AlvtyXiVjj7o",
        "outputId": "ec021235-300b-42b7-dc4c-fa1f1c515ded"
      },
      "execution_count": 85,
      "outputs": [
        {
          "output_type": "execute_result",
          "data": {
            "text/plain": [
              "'AHMET BURAK ŞİŞCİ'"
            ],
            "application/vnd.google.colaboratory.intrinsic+json": {
              "type": "string"
            }
          },
          "metadata": {},
          "execution_count": 85
        }
      ]
    },
    {
      "cell_type": "code",
      "source": [
        "metin_islemleri(\"Ahmet Burak ŞİŞCİ\",\"kucuk\")"
      ],
      "metadata": {
        "colab": {
          "base_uri": "https://localhost:8080/",
          "height": 35
        },
        "id": "Tn1ZvqzVlG54",
        "outputId": "f094f406-c715-4144-f4e7-fdc96a435f7d"
      },
      "execution_count": 86,
      "outputs": [
        {
          "output_type": "execute_result",
          "data": {
            "text/plain": [
              "'ahmet burak şi̇şci̇'"
            ],
            "application/vnd.google.colaboratory.intrinsic+json": {
              "type": "string"
            }
          },
          "metadata": {},
          "execution_count": 86
        }
      ]
    },
    {
      "cell_type": "code",
      "source": [
        "metin_islemleri(\"Ahmet Burak ŞİŞCİ\",\"uzunluk\")"
      ],
      "metadata": {
        "colab": {
          "base_uri": "https://localhost:8080/"
        },
        "id": "Uk5-kWbBlJ7t",
        "outputId": "7cc5716a-de08-40f0-badb-cb394ca64a8a"
      },
      "execution_count": 87,
      "outputs": [
        {
          "output_type": "execute_result",
          "data": {
            "text/plain": [
              "17"
            ]
          },
          "metadata": {},
          "execution_count": 87
        }
      ]
    },
    {
      "cell_type": "code",
      "source": [
        "# Birden Fazla İsim Ekleyen Fonksiyon\n",
        "\n",
        "def isim_ekle(*args):\n",
        "  isimler = list()\n",
        "\n",
        "  for isim in args:\n",
        "    isimler.append(isim.upper())\n",
        "\n",
        "  return isimler"
      ],
      "metadata": {
        "id": "vxyqgVUelpC0"
      },
      "execution_count": 88,
      "outputs": []
    },
    {
      "cell_type": "code",
      "source": [
        "isim_ekle(\"ahmet\",\"burak\",\"ŞİŞCİ\")"
      ],
      "metadata": {
        "colab": {
          "base_uri": "https://localhost:8080/"
        },
        "id": "nhMZHSAgn8wG",
        "outputId": "6d5c6dd3-7211-4bb3-ebad-e24392976688"
      },
      "execution_count": 89,
      "outputs": [
        {
          "output_type": "execute_result",
          "data": {
            "text/plain": [
              "['AHMET', 'BURAK', 'ŞİŞCİ']"
            ]
          },
          "metadata": {},
          "execution_count": 89
        }
      ]
    },
    {
      "cell_type": "code",
      "source": [
        "# Metindeki Kelime Sayısını Analiz Eden Fonksiyon\n",
        "\n",
        "def kelime_sayisi(metin):\n",
        "  metin_liste = metin.split()\n",
        "  uzunluk = len(metin_liste)\n",
        "\n",
        "  return uzunluk\n",
        "\n",
        "def cumle_analiz(metin):\n",
        "  if 5 <= kelime_sayisi(metin):\n",
        "    print(\"cümle uzun. \")\n",
        "\n",
        "  if 5 > kelime_sayisi(metin):\n",
        "    print(\"cümle kısa. \")"
      ],
      "metadata": {
        "id": "YJhU-2peoE3i"
      },
      "execution_count": 90,
      "outputs": []
    },
    {
      "cell_type": "code",
      "source": [
        "kelime_sayisi(\"Ahmet Burak Şişci\")"
      ],
      "metadata": {
        "colab": {
          "base_uri": "https://localhost:8080/"
        },
        "id": "wo-jdSNBsn7p",
        "outputId": "41b8e62b-3324-4733-9ebc-76b7d25a1f0e"
      },
      "execution_count": 91,
      "outputs": [
        {
          "output_type": "execute_result",
          "data": {
            "text/plain": [
              "3"
            ]
          },
          "metadata": {},
          "execution_count": 91
        }
      ]
    },
    {
      "cell_type": "code",
      "source": [
        "cumle_analiz(\"Ahmet Burak Şişci\")"
      ],
      "metadata": {
        "colab": {
          "base_uri": "https://localhost:8080/"
        },
        "id": "y3Ho3gQIstLF",
        "outputId": "ded6c2c5-9c02-4daf-8ff0-2b16f1cee84c"
      },
      "execution_count": 92,
      "outputs": [
        {
          "output_type": "stream",
          "name": "stdout",
          "text": [
            "cümle kısa. \n"
          ]
        }
      ]
    },
    {
      "cell_type": "code",
      "source": [
        "cumle_analiz(\"Ahmet Burak Şişci Bilgisayar Mühendisliği \")"
      ],
      "metadata": {
        "colab": {
          "base_uri": "https://localhost:8080/"
        },
        "id": "ozyIucEbsyt6",
        "outputId": "4da87728-a777-4336-a1dd-1829fd9a2ceb"
      },
      "execution_count": 93,
      "outputs": [
        {
          "output_type": "stream",
          "name": "stdout",
          "text": [
            "cümle uzun. \n"
          ]
        }
      ]
    }
  ]
}